{
 "cells": [
  {
   "cell_type": "code",
   "execution_count": null,
   "id": "f6be20a9",
   "metadata": {},
   "outputs": [],
   "source": [
    "# https://pennylane.ai/qml/demos/tutorial_quanvolution.html"
   ]
  },
  {
   "cell_type": "code",
   "execution_count": null,
   "id": "6f8964cd",
   "metadata": {},
   "outputs": [],
   "source": [
    "# !pip install --upgrade pip\n",
    "# !pip install tensorflow"
   ]
  },
  {
   "cell_type": "code",
   "execution_count": null,
   "id": "39ed83cd",
   "metadata": {},
   "outputs": [],
   "source": [
    "# pip install --upgrade tensorflow"
   ]
  },
  {
   "cell_type": "code",
   "execution_count": 61,
   "id": "03a18eee",
   "metadata": {},
   "outputs": [],
   "source": [
    "import pennylane as qml\n",
    "from pennylane import numpy as np\n",
    "from pennylane.templates import RandomLayers\n",
    "import tensorflow as tf\n",
    "from tensorflow import keras\n",
    "import matplotlib.pyplot as plt\n"
   ]
  },
  {
   "cell_type": "code",
   "execution_count": 62,
   "id": "c036b945",
   "metadata": {},
   "outputs": [],
   "source": [
    "SAVE_PATH = \"./Saved_Models/Quanvolution\" # Data saving folder\n",
    "PREPROCESS1 = False           # If False, skip quantum processing and load data from SAVE_PATH\n",
    "np.random.seed(0)           # Seed for NumPy random number generator\n",
    "tf.random.set_seed(0)       # Seed for TensorFlow random number generator"
   ]
  },
  {
   "cell_type": "code",
   "execution_count": 63,
   "id": "f98628ea",
   "metadata": {
    "scrolled": false
   },
   "outputs": [
    {
     "name": "stdout",
     "output_type": "stream",
     "text": [
      "[1, 2, 3, 4, 5, 7, 8, 9, 10, 11, 12, 13, 14, 15, 17, 18, 23, 25, 26, 28, 31, 33, 35, 38]\n",
      "1 --> 2220 ---->> sum = 2220\n",
      "2 --> 2250 ---->> sum = 4470\n",
      "3 --> 1410 ---->> sum = 5880\n",
      "4 --> 1980 ---->> sum = 7860\n",
      "5 --> 1860 ---->> sum = 9720\n",
      "7 --> 1440 ---->> sum = 11160\n",
      "8 --> 1410 ---->> sum = 12570\n",
      "9 --> 1470 ---->> sum = 14040\n",
      "10 --> 2010 ---->> sum = 16050\n",
      "11 --> 1320 ---->> sum = 17370\n",
      "12 --> 2100 ---->> sum = 19470\n",
      "13 --> 2160 ---->> sum = 21630\n",
      "14 --> 780 ---->> sum = 22410\n",
      "15 --> 630 ---->> sum = 23040\n",
      "17 --> 1110 ---->> sum = 24150\n",
      "18 --> 1200 ---->> sum = 25350\n",
      "23 --> 510 ---->> sum = 25860\n",
      "25 --> 1500 ---->> sum = 27360\n",
      "26 --> 600 ---->> sum = 27960\n",
      "28 --> 540 ---->> sum = 28500\n",
      "31 --> 780 ---->> sum = 29280\n",
      "33 --> 689 ---->> sum = 29969\n",
      "35 --> 1200 ---->> sum = 31169\n",
      "38 --> 2070 ---->> sum = 33239\n",
      "Total data = 33239\n",
      "Train Data shape: (9600, 54, 54)\n",
      "Labels shape: (9600,)\n",
      "Test Data shape: (2424, 54, 54)\n",
      "Labels shape: (2424,)\n"
     ]
    }
   ],
   "source": [
    "import os\n",
    "from PIL import Image, ImageOps\n",
    "from skimage import io\n",
    "import pandas as pd\n",
    "from skimage.transform import rescale, resize, downscale_local_mean\n",
    "\n",
    "# Define the path to the dataset\n",
    "train_data_path = \"./Road_sign_Detection_Kaggle/Train\"\n",
    "csv_file = \"./Road_sign_Detection_Kaggle/Train.csv\"\n",
    "df = pd.read_csv(csv_file)\n",
    "\n",
    "# Get the list of subfolders in the dataset path\n",
    "subfolders = sorted(os.listdir(train_data_path))\n",
    "\n",
    "#### Defining no. of classes to be used in simulation ####\n",
    "classes = [\"1\",\"2\",\"3\",\"4\",\"5\",\"7\",\"8\",\"9\",\"10\",\"11\",\"12\",\"13\",\"14\",\"15\",\"17\",\"18\",\"23\",\"25\",\"26\",\"28\",\"31\",\"33\",\"35\",\"38\"]  # range 1-42\n",
    "\n",
    "int_classes = list(map(int, classes))\n",
    "print(int_classes)\n",
    "annotations = df.loc[df['ClassId'].isin(int_classes)]\n",
    "a = 0\n",
    "for i in classes:\n",
    "#     if i > classes:\n",
    "#         break\n",
    "    # Get the list of image files in the subfolder\n",
    "    img_files = sorted(os.listdir(os.path.join(train_data_path, i)))\n",
    "    a+=len(img_files)\n",
    "    print(f'{int(i)} --> {len(img_files)} ---->> sum = {a}')\n",
    "    \n",
    "#print(annotations)\n",
    "\n",
    "# Define the image size\n",
    "img_size = (54, 54)\n",
    "\n",
    "#total = (a//10)*10\n",
    "total = a\n",
    "test = int(total/5)\n",
    "train = total - test\n",
    "print(f'Total data = {total}')\n",
    "\n",
    "# Get the list of subfolders in the dataset path\n",
    "subfolders = sorted(os.listdir(train_data_path))\n",
    "\n",
    "train_images = []\n",
    "train_labels = []\n",
    "test_images = []\n",
    "test_labels = []\n",
    "\n",
    "\n",
    "# Loop over the subfolders and load the images and labels\n",
    "k = [] \n",
    "for i in classes:\n",
    "#     if i > classes:\n",
    "#         break\n",
    "    # Get the list of image files in the subfolder\n",
    "    img_files = sorted(os.listdir(os.path.join(train_data_path, i)))\n",
    "    #print(img_files)\n",
    "    # Loop over the image files and load the images\n",
    "    for j, img_file in enumerate(img_files):\n",
    "        \n",
    "        if j>500:\n",
    "            break\n",
    "        # Open the image file using os\n",
    "        img_path = os.path.join(train_data_path, i, img_file)\n",
    "        img = io.imread(img_path, as_gray=True)\n",
    "        #print(img.shape)\n",
    "        s = \"Train/\"+str(i)+\"/\"+str(img_file)\n",
    "        #print(s)\n",
    "        k = annotations.loc[annotations['Path'] == s]\n",
    "        #print(k)\n",
    "        x1 = k.iloc[0, 2]\n",
    "        y1 = k.iloc[0, 3]\n",
    "        x2 = k.iloc[0, 4]\n",
    "        y2 = k.iloc[0, 5]\n",
    "        img = img[x1:x2,y1:y2]\n",
    "        #print(img.shape)\n",
    "        img = resize(img, img_size)\n",
    "        #img = img.flatten()\n",
    "        \n",
    "#         if i == '15' :#and j == 0:\n",
    "#             print(x1,y1,x2,y2)\n",
    "        \n",
    "        if j%5 != 0:\n",
    "            train_images.append(np.expand_dims(img, axis=-1))\n",
    "            train_labels.append(i)\n",
    "#             train_images[k] = np.expand_dims(img, axis=-1)\n",
    "#             train_labels[k] = i\n",
    "            #k+=1\n",
    "        elif j%5 == 0:\n",
    "            test_images.append(np.expand_dims(img, axis=-1))\n",
    "            test_labels.append(i)\n",
    "#             test_images[l] = np.expand_dims(img, axis=-1)\n",
    "#             test_labels[l] = i\n",
    "            #l+=1\n",
    "        #print(\"-----------------------------------------------------\")\n",
    "    \n",
    "\n",
    "# Print the shape of the data and labels arrays\n",
    "train_images = np.squeeze(train_images)\n",
    "train_images = np.asarray(train_images)\n",
    "train_labels = np.asarray(train_labels, dtype = 'uint8')\n",
    "print(\"Train Data shape:\", train_images.shape)\n",
    "print(\"Labels shape:\", train_labels.shape)\n",
    "\n",
    "# Print the shape of the data and labels arrays\n",
    "test_images = np.squeeze(test_images)\n",
    "test_images = np.asarray(test_images)\n",
    "test_labels = np.asarray(test_labels, dtype = 'uint8')\n",
    "print(\"Test Data shape:\", test_images.shape)\n",
    "print(\"Labels shape:\", test_labels.shape)"
   ]
  },
  {
   "cell_type": "code",
   "execution_count": 64,
   "id": "d92daba1",
   "metadata": {},
   "outputs": [
    {
     "name": "stdout",
     "output_type": "stream",
     "text": [
      "24\n"
     ]
    }
   ],
   "source": [
    "print(len(classes))"
   ]
  },
  {
   "cell_type": "code",
   "execution_count": 65,
   "id": "699dd7c4",
   "metadata": {},
   "outputs": [],
   "source": [
    "# # Encode labels into one-hot vectors\n",
    "# train_labels = tf.one_hot(train_labels, depth=24)\n",
    "# test_labels = tf.one_hot(test_labels, depth=24)"
   ]
  },
  {
   "cell_type": "code",
   "execution_count": 66,
   "id": "523d5090",
   "metadata": {},
   "outputs": [],
   "source": [
    "# Import label encoder\n",
    "from sklearn import preprocessing\n",
    "  \n",
    "# label_encoder object knows how to understand word labels.\n",
    "label_encoder = preprocessing.LabelEncoder()\n",
    "  \n",
    "# Encode labels in column 'species'.\n",
    "train_labels = label_encoder.fit_transform(train_labels)\n",
    "test_labels = label_encoder.fit_transform(test_labels)  \n"
   ]
  },
  {
   "cell_type": "code",
   "execution_count": 67,
   "id": "928563d5",
   "metadata": {},
   "outputs": [
    {
     "name": "stdout",
     "output_type": "stream",
     "text": [
      "[ 0  0  0 ... 23 23 23]\n"
     ]
    }
   ],
   "source": [
    "print(test_labels)"
   ]
  },
  {
   "cell_type": "code",
   "execution_count": 68,
   "id": "86c6a78c",
   "metadata": {},
   "outputs": [
    {
     "name": "stdout",
     "output_type": "stream",
     "text": [
      "9600\n"
     ]
    }
   ],
   "source": [
    "print(len(train_labels))"
   ]
  },
  {
   "cell_type": "code",
   "execution_count": 69,
   "id": "8bd7d21b",
   "metadata": {},
   "outputs": [],
   "source": [
    "n_train = len(train_labels)\n",
    "n_test = len(test_labels)"
   ]
  },
  {
   "cell_type": "code",
   "execution_count": 70,
   "id": "6e5fddba",
   "metadata": {},
   "outputs": [],
   "source": [
    "# Add extra dimension for convolution channels\n",
    "train_images = np.array(train_images[..., tf.newaxis], requires_grad=False)\n",
    "test_images = np.array(test_images[..., tf.newaxis], requires_grad=False)"
   ]
  },
  {
   "cell_type": "code",
   "execution_count": 71,
   "id": "5e08f9ca",
   "metadata": {},
   "outputs": [
    {
     "name": "stdout",
     "output_type": "stream",
     "text": [
      "(9600, 54, 54, 1) float64 (2424, 54, 54, 1) float64\n"
     ]
    }
   ],
   "source": [
    "print(train_images.shape,train_images.dtype, test_images.shape, test_images.dtype) "
   ]
  },
  {
   "cell_type": "code",
   "execution_count": 72,
   "id": "3a27b751",
   "metadata": {},
   "outputs": [
    {
     "data": {
      "text/plain": [
       "dtype('int64')"
      ]
     },
     "execution_count": 72,
     "metadata": {},
     "output_type": "execute_result"
    }
   ],
   "source": [
    "train_labels.dtype"
   ]
  },
  {
   "cell_type": "code",
   "execution_count": 73,
   "id": "b72a0f3e",
   "metadata": {},
   "outputs": [],
   "source": [
    "#pip install numpy==1.23"
   ]
  },
  {
   "cell_type": "code",
   "execution_count": 74,
   "id": "feff7ea1",
   "metadata": {},
   "outputs": [],
   "source": [
    "dev = qml.device(\"default.qubit\", wires=9)\n",
    "# Random circuit parameters\n",
    "rand_params = np.random.uniform(high=2 * np.pi, size=(1, 9))\n",
    "\n",
    "@qml.qnode(dev)\n",
    "def circuit(phi):\n",
    "    # Encoding of 9 classical input values\n",
    "    for j in range(9):\n",
    "        qml.RY(np.pi * phi[j], wires=j)\n",
    "\n",
    "    # Random quantum circuit\n",
    "    RandomLayers(rand_params, wires=list(range(9)))\n",
    "\n",
    "    # Measurement producing 9 classical output values\n",
    "    return [qml.expval(qml.PauliZ(j)) for j in range(9)]"
   ]
  },
  {
   "cell_type": "code",
   "execution_count": 75,
   "id": "04958e90",
   "metadata": {},
   "outputs": [],
   "source": [
    "def quanv(image):\n",
    "    \"\"\"Convolves the input image with many applications of the same quantum circuit.\"\"\"\n",
    "    out = np.zeros((18, 18, 9))\n",
    "\n",
    "    # Loop over the coordinates of the top-left pixel of 3X3 squares\n",
    "    for j in range(0, 54, 3):\n",
    "        for k in range(0, 54, 3):\n",
    "            # Process a squared 3x3 region of the image with a quantum circuit\n",
    "            q_results = circuit(\n",
    "                [\n",
    "                    image[j, k, 0],\n",
    "                    image[j, k + 1, 0],\n",
    "                    image[j, k + 2, 0],\n",
    "                    image[j + 1, k, 0],\n",
    "                    image[j + 1, k + 1, 0],\n",
    "                    image[j + 1, k + 2, 0],\n",
    "                    image[j + 2, k, 0],\n",
    "                    image[j + 2, k + 1, 0],\n",
    "                    image[j + 2, k + 2, 0],               \n",
    "                ]\n",
    "            )\n",
    "            # Assign expectation values to different channels of the output pixel (j/3, k/3)\n",
    "            for c in range(9):\n",
    "                out[j // 3, k // 3, c] = q_results[c]\n",
    "    return out\n"
   ]
  },
  {
   "cell_type": "code",
   "execution_count": 76,
   "id": "7d6797fe",
   "metadata": {},
   "outputs": [],
   "source": [
    "if PREPROCESS1 == True:\n",
    "    q_train_images = []\n",
    "    print(\"Quantum pre-processing of train images:\")\n",
    "    for idx, img in enumerate(train_images):\n",
    "        print(\"{}/{}        \".format(idx + 1, n_train), end=\"\\r\")\n",
    "        q_train_images.append(quanv(img))\n",
    "    q_train_images = np.asarray(q_train_images)\n",
    "\n",
    "    q_test_images = []\n",
    "    print(\"\\nQuantum pre-processing of test images:\")\n",
    "    for idx, img in enumerate(test_images):\n",
    "        print(\"{}/{}        \".format(idx + 1, n_test), end=\"\\r\")\n",
    "        q_test_images.append(quanv(img))\n",
    "    q_test_images = np.asarray(q_test_images)\n",
    "\n",
    "    # Save pre-processed images\n",
    "    np.save(SAVE_PATH + \"(M1)multi_class_train.npy\", q_train_images)\n",
    "    np.save(SAVE_PATH + \"(M1)multi_class_test.npy\", q_test_images)\n",
    "\n"
   ]
  },
  {
   "cell_type": "code",
   "execution_count": 77,
   "id": "b1757461",
   "metadata": {},
   "outputs": [],
   "source": [
    "# Load pre-processed images\n",
    "q_train_images = np.load(SAVE_PATH + \"(M1)multi_class_train.npy\")\n",
    "q_test_images = np.load(SAVE_PATH + \"(M1)multi_class_test.npy\")"
   ]
  },
  {
   "cell_type": "code",
   "execution_count": 78,
   "id": "b3f84c57",
   "metadata": {},
   "outputs": [
    {
     "name": "stdout",
     "output_type": "stream",
     "text": [
      "(9600, 18, 18, 9)\n"
     ]
    }
   ],
   "source": [
    "print(q_train_images.shape)"
   ]
  },
  {
   "cell_type": "code",
   "execution_count": 79,
   "id": "81198b98",
   "metadata": {
    "scrolled": false
   },
   "outputs": [
    {
     "data": {
      "image/png": "[encoded data removed]",
      "text/plain": [
       "<Figure size 720x720 with 20 Axes>"
      ]
     },
     "metadata": {},
     "output_type": "display_data"
    }
   ],
   "source": [
    "n_samples = 4\n",
    "n_channels = 4\n",
    "fig, axes = plt.subplots(1 + n_channels, n_samples, figsize=(10, 10))\n",
    "for k in range(n_samples):\n",
    "    axes[0, 0].set_ylabel(\"Input\")\n",
    "    if k != 0:\n",
    "        axes[0, k].yaxis.set_visible(False)\n",
    "    axes[0, k].imshow(train_images[k*300, :, :, 0], cmap=\"gray\")\n",
    "\n",
    "    # Plot all output channels\n",
    "    for c in range(n_channels):\n",
    "        axes[c + 1, 0].set_ylabel(\"Output [ch. {}]\".format(c))\n",
    "        if k != 0:\n",
    "            axes[c, k].yaxis.set_visible(False)\n",
    "        axes[c + 1, k].imshow(q_train_images[k*300, :, :, c], cmap=\"gray\")\n",
    "\n",
    "plt.tight_layout()\n",
    "plt.show()"
   ]
  },
  {
   "cell_type": "code",
   "execution_count": 80,
   "id": "4292787f",
   "metadata": {},
   "outputs": [],
   "source": [
    "from qiskit import QuantumCircuit, assemble, Aer\n",
    "from math import pi, sqrt\n",
    "from qiskit.visualization import plot_bloch_multivector, plot_histogram\n",
    "sim = Aer.get_backend('aer_simulator')\n",
    "from qiskit.quantum_info import state_fidelity as fid"
   ]
  },
  {
   "cell_type": "code",
   "execution_count": 81,
   "id": "8861932e",
   "metadata": {},
   "outputs": [
    {
     "data": {
      "text/plain": [
       "tensor([0.5+0.j       , 0. -0.8660254j], requires_grad=True)"
      ]
     },
     "execution_count": 81,
     "metadata": {},
     "output_type": "execute_result"
    }
   ],
   "source": [
    "state_list=[]\n",
    "\n",
    "for i in range(24):\n",
    "    qc = QuantumCircuit(1)\n",
    "    qc.rx(i*2*pi/24,0)\n",
    "    qc.save_statevector()\n",
    "    qobj = assemble(qc)\n",
    "    state = sim.run(qobj).result().get_statevector()\n",
    "    state_list.append(state.data)\n",
    "\n",
    "stt = np.array(state_list)\n",
    "stt[8]\n",
    "#tf.convert_to_tensor(stt)"
   ]
  },
  {
   "cell_type": "code",
   "execution_count": 82,
   "id": "3381739f",
   "metadata": {},
   "outputs": [],
   "source": [
    "import numpy"
   ]
  },
  {
   "cell_type": "code",
   "execution_count": 83,
   "id": "65a530ef",
   "metadata": {},
   "outputs": [],
   "source": [
    "def my_metric_fn(y_true, y_pred):\n",
    "    #idx=np.argmax(y_pred)\n",
    "    #true=np.argmax(y_true)\n",
    "    #for i in ypred:\n",
    "   # print(sum(y_pred))\n",
    "    #print(y_pred)\n",
    "    #print(y_true)\n",
    "    idx = np.argmax(y_pred,1)\n",
    "    true = y_true.numpy()\n",
    "    true = true.astype(int)\n",
    "    true = true.flatten()\n",
    "    #print(idx)\n",
    "    #print(true)\n",
    "    \n",
    "    #print(len(idx))\n",
    "    #print(len(true))\n",
    "#     idx = tf.one_hot(idx, 24)\n",
    "#     true = tf.one_hot(true, 24)\n",
    "#     print(idx)\n",
    "    \n",
    "#     print(true)\n",
    "#     idx = np.argmax(idx)\n",
    "#     true = np.argmax(true)\n",
    "#     print(idx)\n",
    "#     print(true)\n",
    "#     print(idx)\n",
    "#     print('---------------------------------------------')\n",
    "#     print(true)\n",
    "#     print('---------------------------------------------')\n",
    "#     print(stt[idx])\n",
    "#     print('---------------------------------------------')\n",
    "#     print(stt[idx].conj())\n",
    "#     print('---------------------------------------------')\n",
    "#     print(stt[true])\n",
    "#     print('---------------------------------------------')\n",
    "#     print(stt[idx].conj()*stt[true])\n",
    "#     print('---------------------------------------------')\n",
    "#     print(numpy.sum((stt[idx].conj()*stt[true]),axis=1))\n",
    "#     print('---------------------------------------------')\n",
    "#     print(tf.abs(numpy.sum((stt[idx].conj()*stt[true]),axis=1)))\n",
    "#     print('---------------------------------------------')\n",
    "#     print(tf.abs(numpy.sum((stt[idx].conj()*stt[true]),axis=1))**2)\n",
    "#     print('---------------------------------------------')\n",
    "    \n",
    "    fid = tf.abs(numpy.sum((stt[idx].conj()*stt[true]),axis=1))**2\n",
    "    return fid"
   ]
  },
  {
   "cell_type": "code",
   "execution_count": null,
   "id": "306b682b",
   "metadata": {},
   "outputs": [],
   "source": [
    "def MyModel():\n",
    "    \"\"\"Initializes and returns a custom Keras model\n",
    "    which is ready to be trained.\"\"\"\n",
    "    \n",
    "    model = keras.Sequential()\n",
    "    model.add(keras.layers.Conv2D(filters=4, kernel_size=(3,3), activation = 'relu', padding = 'same', input_shape = (54,54,1)))\n",
    "    model.add(keras.layers.MaxPool2D(pool_size=(3,3), strides=(3,3)))\n",
    "    model.add(keras.layers.Conv2D(filters=64, kernel_size=(3,3), activation = 'relu', padding = 'same'))\n",
    "    model.add(keras.layers.MaxPool2D(pool_size=(2,2), strides=(2,2)))\n",
    "    model.add(keras.layers.Flatten())\n",
    "    #model.add(keras.layers.Dense(128, activation='relu'))\n",
    "    #model.add(keras.layers.Dense(64, activation='relu'))\n",
    "    model.add(keras.layers.Dense(len(classes), activation='softmax'))\n",
    "    \n",
    "    \n",
    "#     model = keras.models.Sequential([\n",
    "#         keras.layers.Flatten(),\n",
    "#         keras.layers.Dense(43, activation=\"softmax\")\n",
    "#     ])\n",
    "    opt = keras.optimizers.Adam(learning_rate=0.0001)\n",
    "    model.compile(\n",
    "        optimizer=opt,\n",
    "        loss=\"sparse_categorical_crossentropy\",\n",
    "        metrics=[\"accuracy\", my_metric_fn],\n",
    "        run_eagerly=True\n",
    "    )\n",
    "    return model\n"
   ]
  },
  {
   "cell_type": "code",
   "execution_count": null,
   "id": "139b560e",
   "metadata": {},
   "outputs": [],
   "source": [
    "c_model = MyModel()\n",
    "c_model.summary()"
   ]
  },
  {
   "cell_type": "code",
   "execution_count": null,
   "id": "44724b94",
   "metadata": {
    "scrolled": true
   },
   "outputs": [],
   "source": [
    "c_history = c_model.fit(\n",
    "    train_images,\n",
    "    train_labels,\n",
    "    validation_data=(test_images, test_labels),\n",
    "    batch_size=30,\n",
    "    epochs=100,\n",
    "    verbose=2,\n",
    ")"
   ]
  },
  {
   "cell_type": "code",
   "execution_count": 84,
   "id": "13a89227",
   "metadata": {},
   "outputs": [],
   "source": [
    "def MyQModel():\n",
    "    \"\"\"Initializes and returns a custom Keras model\n",
    "    which is ready to be trained.\"\"\"\n",
    "    \n",
    "    model = keras.Sequential()\n",
    "#     model.add(keras.layers.Conv2D(filters=4, kernel_size=(3,3), activation = 'relu', padding = 'same', input_shape = (28,28,1)))\n",
    "#     model.add(keras.layers.MaxPool2D(pool_size=(2,2), strides=(2,2)))\n",
    "    model.add(keras.layers.Conv2D(filters=64, kernel_size=(3,3), activation = 'relu', padding = 'same', input_shape = (18,18,9)))\n",
    "    model.add(keras.layers.MaxPool2D(pool_size=(2,2), strides=(2,2)))\n",
    "    model.add(keras.layers.Flatten())\n",
    "    #model.add(keras.layers.Dense(128, activation='relu'))\n",
    "    #model.add(keras.layers.Dense(64, activation='relu'))\n",
    "    model.add(keras.layers.Dense(len(classes), activation='softmax'))\n",
    "    \n",
    "    \n",
    "#     model = keras.models.Sequential([\n",
    "#         keras.layers.Flatten(),\n",
    "#         keras.layers.Dense(43, activation=\"softmax\")\n",
    "#     ])\n",
    "    opt = keras.optimizers.Adam(learning_rate=0.0001)\n",
    "    model.compile(\n",
    "        optimizer=opt,\n",
    "        loss=\"sparse_categorical_crossentropy\",\n",
    "        metrics=[\"accuracy\", my_metric_fn],\n",
    "        run_eagerly=True\n",
    "    )\n",
    "    return model\n"
   ]
  },
  {
   "cell_type": "code",
   "execution_count": 85,
   "id": "1cae6c18",
   "metadata": {},
   "outputs": [],
   "source": [
    "# import numpy\n",
    "# def my_q_metric_fn(y_true, y_pred):\n",
    "#     #idx=np.argmax(y_pred)\n",
    "#     #true=np.argmax(y_true)\n",
    "#     #for i in ypred:\n",
    "#    # print(sum(y_pred))\n",
    "#     #y_pred = y_pred.numpy()\n",
    "#     #print(y_pred)\n",
    "#     print(y_pred)\n",
    "#     idx=tf.argmax(y_pred,1)\n",
    "#     true=tf.argmax(y_true,1)  \n",
    "#     print(idx.numpy())\n",
    "#    # print(idx)\n",
    "#     fid = tf.abs(tf.experimental.numpy.sum((stt[idx].conj()*stt[true]),axis=1))**2\n",
    "#     return fid"
   ]
  },
  {
   "cell_type": "code",
   "execution_count": 86,
   "id": "01791433",
   "metadata": {},
   "outputs": [
    {
     "name": "stdout",
     "output_type": "stream",
     "text": [
      "Model: \"sequential_3\"\n",
      "_________________________________________________________________\n",
      " Layer (type)                Output Shape              Param #   \n",
      "=================================================================\n",
      " conv2d_3 (Conv2D)           (None, 18, 18, 64)        5248      \n",
      "                                                                 \n",
      " max_pooling2d_3 (MaxPooling  (None, 9, 9, 64)         0         \n",
      " 2D)                                                             \n",
      "                                                                 \n",
      " flatten_3 (Flatten)         (None, 5184)              0         \n",
      "                                                                 \n",
      " dense_3 (Dense)             (None, 24)                124440    \n",
      "                                                                 \n",
      "=================================================================\n",
      "Total params: 129,688\n",
      "Trainable params: 129,688\n",
      "Non-trainable params: 0\n",
      "_________________________________________________________________\n"
     ]
    }
   ],
   "source": [
    "q_model = MyQModel()\n",
    "q_model.summary()"
   ]
  },
  {
   "cell_type": "code",
   "execution_count": 87,
   "id": "ac17dfd3",
   "metadata": {
    "scrolled": true
   },
   "outputs": [
    {
     "name": "stdout",
     "output_type": "stream",
     "text": [
      "Epoch 1/100\n",
      "320/320 - 6s - loss: 2.6191 - accuracy: 0.2915 - my_metric_fn: 0.6836 - val_loss: 2.1455 - val_accuracy: 0.4691 - val_my_metric_fn: 0.7830 - 6s/epoch - 19ms/step\n",
      "Epoch 2/100\n",
      "320/320 - 6s - loss: 1.8046 - accuracy: 0.5485 - my_metric_fn: 0.8277 - val_loss: 1.5480 - val_accuracy: 0.6229 - val_my_metric_fn: 0.8661 - 6s/epoch - 19ms/step\n",
      "Epoch 3/100\n",
      "320/320 - 6s - loss: 1.3583 - accuracy: 0.6615 - my_metric_fn: 0.8797 - val_loss: 1.2298 - val_accuracy: 0.6931 - val_my_metric_fn: 0.8875 - 6s/epoch - 19ms/step\n",
      "Epoch 4/100\n",
      "320/320 - 6s - loss: 1.0996 - accuracy: 0.7266 - my_metric_fn: 0.9031 - val_loss: 1.0348 - val_accuracy: 0.7360 - val_my_metric_fn: 0.9030 - 6s/epoch - 19ms/step\n",
      "Epoch 5/100\n",
      "320/320 - 6s - loss: 0.9274 - accuracy: 0.7664 - my_metric_fn: 0.9178 - val_loss: 0.8962 - val_accuracy: 0.7739 - val_my_metric_fn: 0.9159 - 6s/epoch - 19ms/step\n",
      "Epoch 6/100\n",
      "320/320 - 6s - loss: 0.8088 - accuracy: 0.7949 - my_metric_fn: 0.9274 - val_loss: 0.7892 - val_accuracy: 0.8016 - val_my_metric_fn: 0.9202 - 6s/epoch - 19ms/step\n",
      "Epoch 7/100\n",
      "320/320 - 6s - loss: 0.7182 - accuracy: 0.8196 - my_metric_fn: 0.9382 - val_loss: 0.7307 - val_accuracy: 0.8040 - val_my_metric_fn: 0.9332 - 6s/epoch - 19ms/step\n",
      "Epoch 8/100\n",
      "320/320 - 6s - loss: 0.6430 - accuracy: 0.8392 - my_metric_fn: 0.9455 - val_loss: 0.6553 - val_accuracy: 0.8333 - val_my_metric_fn: 0.9388 - 6s/epoch - 19ms/step\n",
      "Epoch 9/100\n",
      "320/320 - 6s - loss: 0.5816 - accuracy: 0.8574 - my_metric_fn: 0.9543 - val_loss: 0.5977 - val_accuracy: 0.8457 - val_my_metric_fn: 0.9464 - 6s/epoch - 19ms/step\n",
      "Epoch 10/100\n",
      "320/320 - 6s - loss: 0.5301 - accuracy: 0.8742 - my_metric_fn: 0.9602 - val_loss: 0.5709 - val_accuracy: 0.8486 - val_my_metric_fn: 0.9521 - 6s/epoch - 19ms/step\n",
      "Epoch 11/100\n",
      "320/320 - 6s - loss: 0.4874 - accuracy: 0.8822 - my_metric_fn: 0.9645 - val_loss: 0.5183 - val_accuracy: 0.8634 - val_my_metric_fn: 0.9509 - 6s/epoch - 19ms/step\n",
      "Epoch 12/100\n",
      "320/320 - 6s - loss: 0.4475 - accuracy: 0.8936 - my_metric_fn: 0.9680 - val_loss: 0.4822 - val_accuracy: 0.8816 - val_my_metric_fn: 0.9641 - 6s/epoch - 19ms/step\n",
      "Epoch 13/100\n",
      "320/320 - 6s - loss: 0.4158 - accuracy: 0.9035 - my_metric_fn: 0.9718 - val_loss: 0.4488 - val_accuracy: 0.8911 - val_my_metric_fn: 0.9628 - 6s/epoch - 19ms/step\n",
      "Epoch 14/100\n",
      "320/320 - 6s - loss: 0.3864 - accuracy: 0.9097 - my_metric_fn: 0.9745 - val_loss: 0.4335 - val_accuracy: 0.8783 - val_my_metric_fn: 0.9611 - 6s/epoch - 19ms/step\n",
      "Epoch 15/100\n",
      "320/320 - 6s - loss: 0.3611 - accuracy: 0.9158 - my_metric_fn: 0.9771 - val_loss: 0.3949 - val_accuracy: 0.9039 - val_my_metric_fn: 0.9707 - 6s/epoch - 19ms/step\n",
      "Epoch 16/100\n",
      "320/320 - 6s - loss: 0.3334 - accuracy: 0.9279 - my_metric_fn: 0.9790 - val_loss: 0.3888 - val_accuracy: 0.9006 - val_my_metric_fn: 0.9704 - 6s/epoch - 19ms/step\n",
      "Epoch 17/100\n",
      "320/320 - 6s - loss: 0.3121 - accuracy: 0.9300 - my_metric_fn: 0.9796 - val_loss: 0.3597 - val_accuracy: 0.9113 - val_my_metric_fn: 0.9726 - 6s/epoch - 19ms/step\n",
      "Epoch 18/100\n",
      "320/320 - 6s - loss: 0.2935 - accuracy: 0.9324 - my_metric_fn: 0.9813 - val_loss: 0.3493 - val_accuracy: 0.9138 - val_my_metric_fn: 0.9717 - 6s/epoch - 19ms/step\n",
      "Epoch 19/100\n",
      "320/320 - 6s - loss: 0.2767 - accuracy: 0.9360 - my_metric_fn: 0.9825 - val_loss: 0.3335 - val_accuracy: 0.9150 - val_my_metric_fn: 0.9723 - 6s/epoch - 19ms/step\n",
      "Epoch 20/100\n",
      "320/320 - 6s - loss: 0.2612 - accuracy: 0.9407 - my_metric_fn: 0.9844 - val_loss: 0.3081 - val_accuracy: 0.9295 - val_my_metric_fn: 0.9762 - 6s/epoch - 19ms/step\n",
      "Epoch 21/100\n",
      "320/320 - 6s - loss: 0.2414 - accuracy: 0.9480 - my_metric_fn: 0.9854 - val_loss: 0.3146 - val_accuracy: 0.9092 - val_my_metric_fn: 0.9709 - 6s/epoch - 19ms/step\n",
      "Epoch 22/100\n",
      "320/320 - 6s - loss: 0.2309 - accuracy: 0.9479 - my_metric_fn: 0.9859 - val_loss: 0.2932 - val_accuracy: 0.9344 - val_my_metric_fn: 0.9772 - 6s/epoch - 19ms/step\n",
      "Epoch 23/100\n",
      "320/320 - 6s - loss: 0.2165 - accuracy: 0.9523 - my_metric_fn: 0.9874 - val_loss: 0.2797 - val_accuracy: 0.9328 - val_my_metric_fn: 0.9774 - 6s/epoch - 19ms/step\n",
      "Epoch 24/100\n",
      "320/320 - 6s - loss: 0.2067 - accuracy: 0.9540 - my_metric_fn: 0.9877 - val_loss: 0.2817 - val_accuracy: 0.9262 - val_my_metric_fn: 0.9765 - 6s/epoch - 20ms/step\n",
      "Epoch 25/100\n",
      "320/320 - 6s - loss: 0.1943 - accuracy: 0.9589 - my_metric_fn: 0.9895 - val_loss: 0.2651 - val_accuracy: 0.9377 - val_my_metric_fn: 0.9773 - 6s/epoch - 19ms/step\n",
      "Epoch 26/100\n",
      "320/320 - 6s - loss: 0.1832 - accuracy: 0.9606 - my_metric_fn: 0.9893 - val_loss: 0.2765 - val_accuracy: 0.9183 - val_my_metric_fn: 0.9724 - 6s/epoch - 19ms/step\n",
      "Epoch 27/100\n",
      "320/320 - 6s - loss: 0.1735 - accuracy: 0.9616 - my_metric_fn: 0.9903 - val_loss: 0.2456 - val_accuracy: 0.9431 - val_my_metric_fn: 0.9789 - 6s/epoch - 19ms/step\n",
      "Epoch 28/100\n",
      "320/320 - 6s - loss: 0.1644 - accuracy: 0.9641 - my_metric_fn: 0.9910 - val_loss: 0.2428 - val_accuracy: 0.9385 - val_my_metric_fn: 0.9795 - 6s/epoch - 19ms/step\n",
      "Epoch 29/100\n",
      "320/320 - 6s - loss: 0.1579 - accuracy: 0.9672 - my_metric_fn: 0.9916 - val_loss: 0.2419 - val_accuracy: 0.9332 - val_my_metric_fn: 0.9777 - 6s/epoch - 19ms/step\n",
      "Epoch 30/100\n",
      "320/320 - 6s - loss: 0.1476 - accuracy: 0.9689 - my_metric_fn: 0.9925 - val_loss: 0.2264 - val_accuracy: 0.9468 - val_my_metric_fn: 0.9802 - 6s/epoch - 19ms/step\n",
      "Epoch 31/100\n",
      "320/320 - 6s - loss: 0.1416 - accuracy: 0.9704 - my_metric_fn: 0.9921 - val_loss: 0.2283 - val_accuracy: 0.9418 - val_my_metric_fn: 0.9797 - 6s/epoch - 19ms/step\n",
      "Epoch 32/100\n",
      "320/320 - 6s - loss: 0.1342 - accuracy: 0.9723 - my_metric_fn: 0.9926 - val_loss: 0.2155 - val_accuracy: 0.9402 - val_my_metric_fn: 0.9804 - 6s/epoch - 19ms/step\n",
      "Epoch 33/100\n",
      "320/320 - 6s - loss: 0.1270 - accuracy: 0.9729 - my_metric_fn: 0.9928 - val_loss: 0.2260 - val_accuracy: 0.9361 - val_my_metric_fn: 0.9802 - 6s/epoch - 19ms/step\n",
      "Epoch 34/100\n",
      "320/320 - 6s - loss: 0.1222 - accuracy: 0.9746 - my_metric_fn: 0.9942 - val_loss: 0.2094 - val_accuracy: 0.9480 - val_my_metric_fn: 0.9808 - 6s/epoch - 19ms/step\n",
      "Epoch 35/100\n",
      "320/320 - 6s - loss: 0.1170 - accuracy: 0.9759 - my_metric_fn: 0.9942 - val_loss: 0.2139 - val_accuracy: 0.9427 - val_my_metric_fn: 0.9791 - 6s/epoch - 19ms/step\n",
      "Epoch 36/100\n",
      "320/320 - 6s - loss: 0.1129 - accuracy: 0.9753 - my_metric_fn: 0.9941 - val_loss: 0.2050 - val_accuracy: 0.9443 - val_my_metric_fn: 0.9792 - 6s/epoch - 19ms/step\n",
      "Epoch 37/100\n",
      "320/320 - 6s - loss: 0.1049 - accuracy: 0.9793 - my_metric_fn: 0.9944 - val_loss: 0.2012 - val_accuracy: 0.9509 - val_my_metric_fn: 0.9800 - 6s/epoch - 19ms/step\n",
      "Epoch 38/100\n",
      "320/320 - 6s - loss: 0.1011 - accuracy: 0.9794 - my_metric_fn: 0.9949 - val_loss: 0.1935 - val_accuracy: 0.9493 - val_my_metric_fn: 0.9828 - 6s/epoch - 19ms/step\n",
      "Epoch 39/100\n",
      "320/320 - 6s - loss: 0.0978 - accuracy: 0.9795 - my_metric_fn: 0.9952 - val_loss: 0.1850 - val_accuracy: 0.9534 - val_my_metric_fn: 0.9800 - 6s/epoch - 19ms/step\n",
      "Epoch 40/100\n",
      "320/320 - 6s - loss: 0.0918 - accuracy: 0.9822 - my_metric_fn: 0.9959 - val_loss: 0.1921 - val_accuracy: 0.9501 - val_my_metric_fn: 0.9830 - 6s/epoch - 19ms/step\n",
      "Epoch 41/100\n",
      "320/320 - 6s - loss: 0.0884 - accuracy: 0.9796 - my_metric_fn: 0.9956 - val_loss: 0.1850 - val_accuracy: 0.9538 - val_my_metric_fn: 0.9811 - 6s/epoch - 19ms/step\n",
      "Epoch 42/100\n",
      "320/320 - 6s - loss: 0.0830 - accuracy: 0.9843 - my_metric_fn: 0.9960 - val_loss: 0.1747 - val_accuracy: 0.9567 - val_my_metric_fn: 0.9823 - 6s/epoch - 19ms/step\n",
      "Epoch 43/100\n",
      "320/320 - 6s - loss: 0.0801 - accuracy: 0.9839 - my_metric_fn: 0.9964 - val_loss: 0.1939 - val_accuracy: 0.9517 - val_my_metric_fn: 0.9802 - 6s/epoch - 19ms/step\n",
      "Epoch 44/100\n",
      "320/320 - 6s - loss: 0.0780 - accuracy: 0.9847 - my_metric_fn: 0.9965 - val_loss: 0.1776 - val_accuracy: 0.9542 - val_my_metric_fn: 0.9845 - 6s/epoch - 19ms/step\n",
      "Epoch 45/100\n",
      "320/320 - 6s - loss: 0.0743 - accuracy: 0.9848 - my_metric_fn: 0.9970 - val_loss: 0.1775 - val_accuracy: 0.9546 - val_my_metric_fn: 0.9832 - 6s/epoch - 19ms/step\n",
      "Epoch 46/100\n",
      "320/320 - 6s - loss: 0.0718 - accuracy: 0.9859 - my_metric_fn: 0.9968 - val_loss: 0.1815 - val_accuracy: 0.9509 - val_my_metric_fn: 0.9820 - 6s/epoch - 18ms/step\n",
      "Epoch 47/100\n",
      "320/320 - 6s - loss: 0.0690 - accuracy: 0.9853 - my_metric_fn: 0.9968 - val_loss: 0.1643 - val_accuracy: 0.9608 - val_my_metric_fn: 0.9836 - 6s/epoch - 19ms/step\n",
      "Epoch 48/100\n",
      "320/320 - 6s - loss: 0.0657 - accuracy: 0.9878 - my_metric_fn: 0.9976 - val_loss: 0.1664 - val_accuracy: 0.9542 - val_my_metric_fn: 0.9839 - 6s/epoch - 19ms/step\n",
      "Epoch 49/100\n",
      "320/320 - 6s - loss: 0.0639 - accuracy: 0.9875 - my_metric_fn: 0.9974 - val_loss: 0.1643 - val_accuracy: 0.9592 - val_my_metric_fn: 0.9836 - 6s/epoch - 19ms/step\n",
      "Epoch 50/100\n",
      "320/320 - 6s - loss: 0.0605 - accuracy: 0.9877 - my_metric_fn: 0.9973 - val_loss: 0.1667 - val_accuracy: 0.9583 - val_my_metric_fn: 0.9842 - 6s/epoch - 18ms/step\n",
      "Epoch 51/100\n",
      "320/320 - 6s - loss: 0.0579 - accuracy: 0.9897 - my_metric_fn: 0.9981 - val_loss: 0.1624 - val_accuracy: 0.9592 - val_my_metric_fn: 0.9834 - 6s/epoch - 18ms/step\n",
      "Epoch 52/100\n",
      "320/320 - 6s - loss: 0.0574 - accuracy: 0.9882 - my_metric_fn: 0.9978 - val_loss: 0.1801 - val_accuracy: 0.9509 - val_my_metric_fn: 0.9817 - 6s/epoch - 18ms/step\n",
      "Epoch 53/100\n",
      "320/320 - 6s - loss: 0.0545 - accuracy: 0.9893 - my_metric_fn: 0.9976 - val_loss: 0.1592 - val_accuracy: 0.9579 - val_my_metric_fn: 0.9848 - 6s/epoch - 18ms/step\n",
      "Epoch 54/100\n",
      "320/320 - 6s - loss: 0.0516 - accuracy: 0.9899 - my_metric_fn: 0.9981 - val_loss: 0.1637 - val_accuracy: 0.9587 - val_my_metric_fn: 0.9825 - 6s/epoch - 18ms/step\n",
      "Epoch 55/100\n",
      "320/320 - 6s - loss: 0.0509 - accuracy: 0.9908 - my_metric_fn: 0.9985 - val_loss: 0.1627 - val_accuracy: 0.9538 - val_my_metric_fn: 0.9831 - 6s/epoch - 19ms/step\n",
      "Epoch 56/100\n",
      "320/320 - 6s - loss: 0.0480 - accuracy: 0.9908 - my_metric_fn: 0.9981 - val_loss: 0.1654 - val_accuracy: 0.9563 - val_my_metric_fn: 0.9835 - 6s/epoch - 19ms/step\n",
      "Epoch 57/100\n",
      "320/320 - 6s - loss: 0.0457 - accuracy: 0.9920 - my_metric_fn: 0.9988 - val_loss: 0.1582 - val_accuracy: 0.9587 - val_my_metric_fn: 0.9850 - 6s/epoch - 19ms/step\n",
      "Epoch 58/100\n",
      "320/320 - 6s - loss: 0.0443 - accuracy: 0.9916 - my_metric_fn: 0.9985 - val_loss: 0.1598 - val_accuracy: 0.9596 - val_my_metric_fn: 0.9844 - 6s/epoch - 18ms/step\n",
      "Epoch 59/100\n",
      "320/320 - 6s - loss: 0.0434 - accuracy: 0.9920 - my_metric_fn: 0.9988 - val_loss: 0.1657 - val_accuracy: 0.9592 - val_my_metric_fn: 0.9831 - 6s/epoch - 19ms/step\n",
      "Epoch 60/100\n",
      "320/320 - 6s - loss: 0.0413 - accuracy: 0.9914 - my_metric_fn: 0.9988 - val_loss: 0.1522 - val_accuracy: 0.9616 - val_my_metric_fn: 0.9855 - 6s/epoch - 18ms/step\n",
      "Epoch 61/100\n",
      "320/320 - 6s - loss: 0.0409 - accuracy: 0.9919 - my_metric_fn: 0.9986 - val_loss: 0.1835 - val_accuracy: 0.9559 - val_my_metric_fn: 0.9844 - 6s/epoch - 18ms/step\n",
      "Epoch 62/100\n",
      "320/320 - 6s - loss: 0.0413 - accuracy: 0.9917 - my_metric_fn: 0.9982 - val_loss: 0.1596 - val_accuracy: 0.9608 - val_my_metric_fn: 0.9849 - 6s/epoch - 18ms/step\n",
      "Epoch 63/100\n",
      "320/320 - 6s - loss: 0.0385 - accuracy: 0.9923 - my_metric_fn: 0.9988 - val_loss: 0.1714 - val_accuracy: 0.9542 - val_my_metric_fn: 0.9847 - 6s/epoch - 19ms/step\n",
      "Epoch 64/100\n",
      "320/320 - 6s - loss: 0.0373 - accuracy: 0.9928 - my_metric_fn: 0.9990 - val_loss: 0.1603 - val_accuracy: 0.9616 - val_my_metric_fn: 0.9850 - 6s/epoch - 18ms/step\n",
      "Epoch 65/100\n",
      "320/320 - 6s - loss: 0.0342 - accuracy: 0.9932 - my_metric_fn: 0.9990 - val_loss: 0.1514 - val_accuracy: 0.9625 - val_my_metric_fn: 0.9867 - 6s/epoch - 18ms/step\n",
      "Epoch 66/100\n",
      "320/320 - 6s - loss: 0.0359 - accuracy: 0.9933 - my_metric_fn: 0.9989 - val_loss: 0.1732 - val_accuracy: 0.9596 - val_my_metric_fn: 0.9850 - 6s/epoch - 18ms/step\n",
      "Epoch 67/100\n",
      "320/320 - 6s - loss: 0.0327 - accuracy: 0.9935 - my_metric_fn: 0.9989 - val_loss: 0.1464 - val_accuracy: 0.9662 - val_my_metric_fn: 0.9874 - 6s/epoch - 19ms/step\n",
      "Epoch 68/100\n",
      "320/320 - 6s - loss: 0.0343 - accuracy: 0.9930 - my_metric_fn: 0.9986 - val_loss: 0.1524 - val_accuracy: 0.9641 - val_my_metric_fn: 0.9859 - 6s/epoch - 18ms/step\n",
      "Epoch 69/100\n",
      "320/320 - 6s - loss: 0.0309 - accuracy: 0.9950 - my_metric_fn: 0.9992 - val_loss: 0.1548 - val_accuracy: 0.9616 - val_my_metric_fn: 0.9866 - 6s/epoch - 18ms/step\n",
      "Epoch 70/100\n",
      "320/320 - 6s - loss: 0.0299 - accuracy: 0.9946 - my_metric_fn: 0.9993 - val_loss: 0.1481 - val_accuracy: 0.9653 - val_my_metric_fn: 0.9862 - 6s/epoch - 18ms/step\n",
      "Epoch 71/100\n",
      "320/320 - 6s - loss: 0.0319 - accuracy: 0.9935 - my_metric_fn: 0.9990 - val_loss: 0.1362 - val_accuracy: 0.9649 - val_my_metric_fn: 0.9886 - 6s/epoch - 18ms/step\n",
      "Epoch 72/100\n",
      "320/320 - 6s - loss: 0.0287 - accuracy: 0.9952 - my_metric_fn: 0.9994 - val_loss: 0.1428 - val_accuracy: 0.9616 - val_my_metric_fn: 0.9877 - 6s/epoch - 18ms/step\n",
      "Epoch 73/100\n",
      "320/320 - 6s - loss: 0.0267 - accuracy: 0.9950 - my_metric_fn: 0.9991 - val_loss: 0.1521 - val_accuracy: 0.9682 - val_my_metric_fn: 0.9868 - 6s/epoch - 18ms/step\n",
      "Epoch 74/100\n",
      "320/320 - 6s - loss: 0.0262 - accuracy: 0.9952 - my_metric_fn: 0.9992 - val_loss: 0.1416 - val_accuracy: 0.9682 - val_my_metric_fn: 0.9882 - 6s/epoch - 19ms/step\n",
      "Epoch 75/100\n",
      "320/320 - 6s - loss: 0.0262 - accuracy: 0.9951 - my_metric_fn: 0.9994 - val_loss: 0.1451 - val_accuracy: 0.9662 - val_my_metric_fn: 0.9878 - 6s/epoch - 18ms/step\n",
      "Epoch 76/100\n",
      "320/320 - 6s - loss: 0.0253 - accuracy: 0.9948 - my_metric_fn: 0.9991 - val_loss: 0.1505 - val_accuracy: 0.9678 - val_my_metric_fn: 0.9861 - 6s/epoch - 18ms/step\n",
      "Epoch 77/100\n",
      "320/320 - 6s - loss: 0.0246 - accuracy: 0.9957 - my_metric_fn: 0.9992 - val_loss: 0.1570 - val_accuracy: 0.9678 - val_my_metric_fn: 0.9850 - 6s/epoch - 18ms/step\n",
      "Epoch 78/100\n",
      "320/320 - 6s - loss: 0.0247 - accuracy: 0.9958 - my_metric_fn: 0.9992 - val_loss: 0.1434 - val_accuracy: 0.9612 - val_my_metric_fn: 0.9852 - 6s/epoch - 19ms/step\n",
      "Epoch 79/100\n",
      "320/320 - 6s - loss: 0.0249 - accuracy: 0.9947 - my_metric_fn: 0.9989 - val_loss: 0.1462 - val_accuracy: 0.9641 - val_my_metric_fn: 0.9868 - 6s/epoch - 18ms/step\n",
      "Epoch 80/100\n",
      "320/320 - 6s - loss: 0.0218 - accuracy: 0.9957 - my_metric_fn: 0.9994 - val_loss: 0.1527 - val_accuracy: 0.9612 - val_my_metric_fn: 0.9868 - 6s/epoch - 18ms/step\n",
      "Epoch 81/100\n",
      "320/320 - 6s - loss: 0.0246 - accuracy: 0.9957 - my_metric_fn: 0.9994 - val_loss: 0.1442 - val_accuracy: 0.9653 - val_my_metric_fn: 0.9856 - 6s/epoch - 18ms/step\n",
      "Epoch 82/100\n",
      "320/320 - 6s - loss: 0.0206 - accuracy: 0.9969 - my_metric_fn: 0.9997 - val_loss: 0.1372 - val_accuracy: 0.9695 - val_my_metric_fn: 0.9878 - 6s/epoch - 19ms/step\n",
      "Epoch 83/100\n",
      "320/320 - 6s - loss: 0.0204 - accuracy: 0.9968 - my_metric_fn: 0.9995 - val_loss: 0.1413 - val_accuracy: 0.9678 - val_my_metric_fn: 0.9870 - 6s/epoch - 18ms/step\n",
      "Epoch 84/100\n",
      "320/320 - 6s - loss: 0.0197 - accuracy: 0.9967 - my_metric_fn: 0.9994 - val_loss: 0.1406 - val_accuracy: 0.9670 - val_my_metric_fn: 0.9871 - 6s/epoch - 18ms/step\n",
      "Epoch 85/100\n",
      "320/320 - 6s - loss: 0.0195 - accuracy: 0.9970 - my_metric_fn: 0.9997 - val_loss: 0.1481 - val_accuracy: 0.9682 - val_my_metric_fn: 0.9873 - 6s/epoch - 18ms/step\n",
      "Epoch 86/100\n",
      "320/320 - 6s - loss: 0.0314 - accuracy: 0.9919 - my_metric_fn: 0.9979 - val_loss: 0.1540 - val_accuracy: 0.9587 - val_my_metric_fn: 0.9856 - 6s/epoch - 18ms/step\n",
      "Epoch 87/100\n",
      "320/320 - 6s - loss: 0.0204 - accuracy: 0.9958 - my_metric_fn: 0.9995 - val_loss: 0.1391 - val_accuracy: 0.9670 - val_my_metric_fn: 0.9877 - 6s/epoch - 18ms/step\n",
      "Epoch 88/100\n",
      "320/320 - 6s - loss: 0.0175 - accuracy: 0.9971 - my_metric_fn: 0.9997 - val_loss: 0.1383 - val_accuracy: 0.9670 - val_my_metric_fn: 0.9864 - 6s/epoch - 18ms/step\n",
      "Epoch 89/100\n",
      "320/320 - 6s - loss: 0.0169 - accuracy: 0.9968 - my_metric_fn: 0.9995 - val_loss: 0.1457 - val_accuracy: 0.9674 - val_my_metric_fn: 0.9861 - 6s/epoch - 18ms/step\n",
      "Epoch 90/100\n",
      "320/320 - 6s - loss: 0.0167 - accuracy: 0.9969 - my_metric_fn: 0.9996 - val_loss: 0.1370 - val_accuracy: 0.9707 - val_my_metric_fn: 0.9872 - 6s/epoch - 18ms/step\n",
      "Epoch 91/100\n",
      "320/320 - 6s - loss: 0.0166 - accuracy: 0.9973 - my_metric_fn: 0.9997 - val_loss: 0.1459 - val_accuracy: 0.9674 - val_my_metric_fn: 0.9886 - 6s/epoch - 18ms/step\n",
      "Epoch 92/100\n",
      "320/320 - 6s - loss: 0.0163 - accuracy: 0.9972 - my_metric_fn: 0.9996 - val_loss: 0.1423 - val_accuracy: 0.9666 - val_my_metric_fn: 0.9874 - 6s/epoch - 18ms/step\n",
      "Epoch 93/100\n",
      "320/320 - 6s - loss: 0.0158 - accuracy: 0.9970 - my_metric_fn: 0.9995 - val_loss: 0.1371 - val_accuracy: 0.9703 - val_my_metric_fn: 0.9873 - 6s/epoch - 18ms/step\n",
      "Epoch 94/100\n",
      "320/320 - 6s - loss: 0.0156 - accuracy: 0.9974 - my_metric_fn: 0.9996 - val_loss: 0.1367 - val_accuracy: 0.9711 - val_my_metric_fn: 0.9873 - 6s/epoch - 18ms/step\n",
      "Epoch 95/100\n",
      "320/320 - 6s - loss: 0.0149 - accuracy: 0.9978 - my_metric_fn: 0.9996 - val_loss: 0.1380 - val_accuracy: 0.9724 - val_my_metric_fn: 0.9871 - 6s/epoch - 18ms/step\n",
      "Epoch 96/100\n",
      "320/320 - 6s - loss: 0.0257 - accuracy: 0.9940 - my_metric_fn: 0.9993 - val_loss: 0.1685 - val_accuracy: 0.9583 - val_my_metric_fn: 0.9827 - 6s/epoch - 18ms/step\n",
      "Epoch 97/100\n",
      "320/320 - 6s - loss: 0.0171 - accuracy: 0.9968 - my_metric_fn: 0.9995 - val_loss: 0.1378 - val_accuracy: 0.9695 - val_my_metric_fn: 0.9882 - 6s/epoch - 19ms/step\n",
      "Epoch 98/100\n",
      "320/320 - 6s - loss: 0.0138 - accuracy: 0.9978 - my_metric_fn: 0.9996 - val_loss: 0.1352 - val_accuracy: 0.9719 - val_my_metric_fn: 0.9889 - 6s/epoch - 18ms/step\n",
      "Epoch 99/100\n",
      "320/320 - 6s - loss: 0.0138 - accuracy: 0.9975 - my_metric_fn: 0.9996 - val_loss: 0.1354 - val_accuracy: 0.9703 - val_my_metric_fn: 0.9885 - 6s/epoch - 18ms/step\n",
      "Epoch 100/100\n",
      "320/320 - 6s - loss: 0.0131 - accuracy: 0.9979 - my_metric_fn: 0.9997 - val_loss: 0.1390 - val_accuracy: 0.9674 - val_my_metric_fn: 0.9884 - 6s/epoch - 18ms/step\n"
     ]
    }
   ],
   "source": [
    "q_history = q_model.fit(\n",
    "    q_train_images,\n",
    "    train_labels,\n",
    "    validation_data=(q_test_images, test_labels),\n",
    "    batch_size=30,\n",
    "    epochs=100,\n",
    "    verbose=2,\n",
    ")"
   ]
  },
  {
   "cell_type": "code",
   "execution_count": 88,
   "id": "9cdeaaa7",
   "metadata": {},
   "outputs": [],
   "source": [
    "# model=np.load('Quanvolution16_(M1)multi_class_test.npy')"
   ]
  },
  {
   "cell_type": "code",
   "execution_count": 89,
   "id": "867e711b",
   "metadata": {},
   "outputs": [],
   "source": [
    "# print(model)"
   ]
  },
  {
   "cell_type": "code",
   "execution_count": 90,
   "id": "33ff07b8",
   "metadata": {
    "scrolled": false
   },
   "outputs": [
    {
     "name": "stderr",
     "output_type": "stream",
     "text": [
      "C:\\Users\\fadhel97\\AppData\\Local\\Temp\\ipykernel_11228\\3516837055.py:6: MatplotlibDeprecationWarning: The 'b' parameter of grid() has been renamed 'visible' since Matplotlib 3.5; support for the old name will be dropped two minor releases later.\n",
      "  ax1.grid(b=False)\n",
      "C:\\Users\\fadhel97\\AppData\\Local\\Temp\\ipykernel_11228\\3516837055.py:7: MatplotlibDeprecationWarning: The 'b' parameter of grid() has been renamed 'visible' since Matplotlib 3.5; support for the old name will be dropped two minor releases later.\n",
      "  ax2.grid(b=False)\n",
      "C:\\Users\\fadhel97\\AppData\\Local\\Temp\\ipykernel_11228\\3516837055.py:8: MatplotlibDeprecationWarning: The 'b' parameter of grid() has been renamed 'visible' since Matplotlib 3.5; support for the old name will be dropped two minor releases later.\n",
      "  ax3.grid(b=False)\n"
     ]
    },
    {
     "ename": "NameError",
     "evalue": "name 'c_history' is not defined",
     "output_type": "error",
     "traceback": [
      "\u001b[1;31m---------------------------------------------------------------------------\u001b[0m",
      "\u001b[1;31mNameError\u001b[0m                                 Traceback (most recent call last)",
      "\u001b[1;32mc:\\Users\\fadhel97\\Dropbox\\Fadhel-Mustafa-Zeerak\\Code 3x3\\Hybrid QCNN multi class-Copy3.ipynb Cell 37\u001b[0m in \u001b[0;36m<cell line: 12>\u001b[1;34m()\u001b[0m\n\u001b[0;32m     <a href='vscode-notebook-cell:/c%3A/Users/fadhel97/Dropbox/Fadhel-Mustafa-Zeerak/Code%203x3/Hybrid%20QCNN%20multi%20class-Copy3.ipynb#X46sZmlsZQ%3D%3D?line=9'>10</a>\u001b[0m ax1\u001b[39m.\u001b[39mplot(q_history\u001b[39m.\u001b[39mhistory[\u001b[39m\"\u001b[39m\u001b[39mval_accuracy\u001b[39m\u001b[39m\"\u001b[39m], \u001b[39m\"\u001b[39m\u001b[39m-b\u001b[39m\u001b[39m\"\u001b[39m, label\u001b[39m=\u001b[39m\u001b[39m\"\u001b[39m\u001b[39mHQCNN-val acc\u001b[39m\u001b[39m\"\u001b[39m)\n\u001b[0;32m     <a href='vscode-notebook-cell:/c%3A/Users/fadhel97/Dropbox/Fadhel-Mustafa-Zeerak/Code%203x3/Hybrid%20QCNN%20multi%20class-Copy3.ipynb#X46sZmlsZQ%3D%3D?line=10'>11</a>\u001b[0m ax2\u001b[39m.\u001b[39mplot(q_history\u001b[39m.\u001b[39mhistory[\u001b[39m\"\u001b[39m\u001b[39mval_loss\u001b[39m\u001b[39m\"\u001b[39m], \u001b[39m\"\u001b[39m\u001b[39m-r\u001b[39m\u001b[39m\"\u001b[39m, label\u001b[39m=\u001b[39m\u001b[39m\"\u001b[39m\u001b[39mHQCNN-val loss\u001b[39m\u001b[39m\"\u001b[39m)\n\u001b[1;32m---> <a href='vscode-notebook-cell:/c%3A/Users/fadhel97/Dropbox/Fadhel-Mustafa-Zeerak/Code%203x3/Hybrid%20QCNN%20multi%20class-Copy3.ipynb#X46sZmlsZQ%3D%3D?line=11'>12</a>\u001b[0m ax1\u001b[39m.\u001b[39mplot(c_history\u001b[39m.\u001b[39mhistory[\u001b[39m\"\u001b[39m\u001b[39mval_accuracy\u001b[39m\u001b[39m\"\u001b[39m], \u001b[39m\"\u001b[39m\u001b[39m--b\u001b[39m\u001b[39m\"\u001b[39m, label\u001b[39m=\u001b[39m\u001b[39m\"\u001b[39m\u001b[39mCNN-val acc\u001b[39m\u001b[39m\"\u001b[39m)\n\u001b[0;32m     <a href='vscode-notebook-cell:/c%3A/Users/fadhel97/Dropbox/Fadhel-Mustafa-Zeerak/Code%203x3/Hybrid%20QCNN%20multi%20class-Copy3.ipynb#X46sZmlsZQ%3D%3D?line=12'>13</a>\u001b[0m ax2\u001b[39m.\u001b[39mplot(c_history\u001b[39m.\u001b[39mhistory[\u001b[39m\"\u001b[39m\u001b[39mval_loss\u001b[39m\u001b[39m\"\u001b[39m], \u001b[39m\"\u001b[39m\u001b[39m--r\u001b[39m\u001b[39m\"\u001b[39m, label\u001b[39m=\u001b[39m\u001b[39m\"\u001b[39m\u001b[39mCNN-val lass\u001b[39m\u001b[39m\"\u001b[39m)\n\u001b[0;32m     <a href='vscode-notebook-cell:/c%3A/Users/fadhel97/Dropbox/Fadhel-Mustafa-Zeerak/Code%203x3/Hybrid%20QCNN%20multi%20class-Copy3.ipynb#X46sZmlsZQ%3D%3D?line=13'>14</a>\u001b[0m ax1\u001b[39m.\u001b[39mplot(q_history\u001b[39m.\u001b[39mhistory[\u001b[39m\"\u001b[39m\u001b[39mmy_metric_fn\u001b[39m\u001b[39m\"\u001b[39m], \u001b[39m\"\u001b[39m\u001b[39m-g\u001b[39m\u001b[39m\"\u001b[39m, label\u001b[39m=\u001b[39m\u001b[39m\"\u001b[39m\u001b[39mHQCNN Fidelity\u001b[39m\u001b[39m\"\u001b[39m)\n",
      "\u001b[1;31mNameError\u001b[0m: name 'c_history' is not defined"
     ]
    },
    {
     "data": {
      "image/png": "[encoded data removed]",
      "text/plain": [
       "<Figure size 576x396 with 3 Axes>"
      ]
     },
     "metadata": {},
     "output_type": "display_data"
    }
   ],
   "source": [
    "plt.style.use(\"seaborn\")\n",
    "\n",
    "fig, ax1 = plt.subplots(sharex=True, sharey=True)\n",
    "ax2 = ax1.twinx()\n",
    "ax3 = ax1.twinx()\n",
    "ax1.grid(b=False)\n",
    "ax2.grid(b=False)\n",
    "ax3.grid(b=False)\n",
    "\n",
    "ax1.plot(q_history.history[\"val_accuracy\"], \"-b\", label=\"HQCNN-val acc\")\n",
    "ax2.plot(q_history.history[\"val_loss\"], \"-r\", label=\"HQCNN-val loss\")\n",
    "ax1.plot(c_history.history[\"val_accuracy\"], \"--b\", label=\"CNN-val acc\")\n",
    "ax2.plot(c_history.history[\"val_loss\"], \"--r\", label=\"CNN-val lass\")\n",
    "ax1.plot(q_history.history[\"my_metric_fn\"], \"-g\", label=\"HQCNN Fidelity\")\n",
    "#ax1.plot(c_history.history[\"val_accuracy\"], \"--g\", label=\"CNN Fidelity\")\n",
    "ax1.set_ylabel(\"Accuracy\", color='b')\n",
    "ax2.set_ylabel(\"Loss\", color='r')\n",
    "ax3.yaxis.set_label_coords(-0.1, 0.5)\n",
    "ax3.set_ylabel(\"Fidelity\", color='g')\n",
    "ax3.set_yticklabels([])\n",
    "ax1.set_ylim([0.3, 1])\n",
    "# ax2.set_ylim([0.1, 1])\n",
    "ax3.set_ylim([0.3, 1])\n",
    "ax1.set_xlabel(\"Epoch\")\n",
    "ax1.legend(bbox_to_anchor=(0.9, 0.7))\n",
    "ax2.legend(bbox_to_anchor=(0.905, 0.57))\n",
    "# ax1.plot(c_history.history[\"val_accuracy\"], \"--b\", label=\"Without quantum layer\")\n",
    "# ax1.plot(c_history.history[\"val_loss\"], \"--g\", label=\"Without quantum layer\")\n",
    "#ax2.set_ylim(top=2.5)\n",
    "#ax2.set_xlabel(\"Epoch\")\n",
    "#ax2.legend()\n",
    "plt.tight_layout()\n",
    "plt.show()"
   ]
  },
  {
   "cell_type": "code",
   "execution_count": 91,
   "id": "0d66eecc",
   "metadata": {},
   "outputs": [
    {
     "name": "stderr",
     "output_type": "stream",
     "text": [
      "C:\\Users\\fadhel97\\AppData\\Local\\Temp\\ipykernel_11228\\3004112581.py:6: MatplotlibDeprecationWarning: The 'b' parameter of grid() has been renamed 'visible' since Matplotlib 3.5; support for the old name will be dropped two minor releases later.\n",
      "  ax1.grid(b=False)\n",
      "C:\\Users\\fadhel97\\AppData\\Local\\Temp\\ipykernel_11228\\3004112581.py:7: MatplotlibDeprecationWarning: The 'b' parameter of grid() has been renamed 'visible' since Matplotlib 3.5; support for the old name will be dropped two minor releases later.\n",
      "  ax2.grid(b=False)\n",
      "C:\\Users\\fadhel97\\AppData\\Local\\Temp\\ipykernel_11228\\3004112581.py:8: MatplotlibDeprecationWarning: The 'b' parameter of grid() has been renamed 'visible' since Matplotlib 3.5; support for the old name will be dropped two minor releases later.\n",
      "  ax3.grid(b=False)\n"
     ]
    },
    {
     "ename": "NameError",
     "evalue": "name 'c_history' is not defined",
     "output_type": "error",
     "traceback": [
      "\u001b[1;31m---------------------------------------------------------------------------\u001b[0m",
      "\u001b[1;31mNameError\u001b[0m                                 Traceback (most recent call last)",
      "\u001b[1;32mc:\\Users\\fadhel97\\Dropbox\\Fadhel-Mustafa-Zeerak\\Code 3x3\\Hybrid QCNN multi class-Copy3.ipynb Cell 38\u001b[0m in \u001b[0;36m<cell line: 12>\u001b[1;34m()\u001b[0m\n\u001b[0;32m     <a href='vscode-notebook-cell:/c%3A/Users/fadhel97/Dropbox/Fadhel-Mustafa-Zeerak/Code%203x3/Hybrid%20QCNN%20multi%20class-Copy3.ipynb#X50sZmlsZQ%3D%3D?line=9'>10</a>\u001b[0m ax1\u001b[39m.\u001b[39mplot(q_history\u001b[39m.\u001b[39mhistory[\u001b[39m\"\u001b[39m\u001b[39maccuracy\u001b[39m\u001b[39m\"\u001b[39m], \u001b[39m\"\u001b[39m\u001b[39m-b\u001b[39m\u001b[39m\"\u001b[39m, label\u001b[39m=\u001b[39m\u001b[39m\"\u001b[39m\u001b[39mHQCNN-val acc\u001b[39m\u001b[39m\"\u001b[39m)\n\u001b[0;32m     <a href='vscode-notebook-cell:/c%3A/Users/fadhel97/Dropbox/Fadhel-Mustafa-Zeerak/Code%203x3/Hybrid%20QCNN%20multi%20class-Copy3.ipynb#X50sZmlsZQ%3D%3D?line=10'>11</a>\u001b[0m ax2\u001b[39m.\u001b[39mplot(q_history\u001b[39m.\u001b[39mhistory[\u001b[39m\"\u001b[39m\u001b[39mloss\u001b[39m\u001b[39m\"\u001b[39m], \u001b[39m\"\u001b[39m\u001b[39m-r\u001b[39m\u001b[39m\"\u001b[39m, label\u001b[39m=\u001b[39m\u001b[39m\"\u001b[39m\u001b[39mHQCNN-val loss\u001b[39m\u001b[39m\"\u001b[39m)\n\u001b[1;32m---> <a href='vscode-notebook-cell:/c%3A/Users/fadhel97/Dropbox/Fadhel-Mustafa-Zeerak/Code%203x3/Hybrid%20QCNN%20multi%20class-Copy3.ipynb#X50sZmlsZQ%3D%3D?line=11'>12</a>\u001b[0m ax1\u001b[39m.\u001b[39mplot(c_history\u001b[39m.\u001b[39mhistory[\u001b[39m\"\u001b[39m\u001b[39maccuracy\u001b[39m\u001b[39m\"\u001b[39m], \u001b[39m\"\u001b[39m\u001b[39m--b\u001b[39m\u001b[39m\"\u001b[39m, label\u001b[39m=\u001b[39m\u001b[39m\"\u001b[39m\u001b[39mCNN-val acc\u001b[39m\u001b[39m\"\u001b[39m)\n\u001b[0;32m     <a href='vscode-notebook-cell:/c%3A/Users/fadhel97/Dropbox/Fadhel-Mustafa-Zeerak/Code%203x3/Hybrid%20QCNN%20multi%20class-Copy3.ipynb#X50sZmlsZQ%3D%3D?line=12'>13</a>\u001b[0m ax2\u001b[39m.\u001b[39mplot(c_history\u001b[39m.\u001b[39mhistory[\u001b[39m\"\u001b[39m\u001b[39mloss\u001b[39m\u001b[39m\"\u001b[39m], \u001b[39m\"\u001b[39m\u001b[39m--r\u001b[39m\u001b[39m\"\u001b[39m, label\u001b[39m=\u001b[39m\u001b[39m\"\u001b[39m\u001b[39mCNN-val lass\u001b[39m\u001b[39m\"\u001b[39m)\n\u001b[0;32m     <a href='vscode-notebook-cell:/c%3A/Users/fadhel97/Dropbox/Fadhel-Mustafa-Zeerak/Code%203x3/Hybrid%20QCNN%20multi%20class-Copy3.ipynb#X50sZmlsZQ%3D%3D?line=13'>14</a>\u001b[0m ax1\u001b[39m.\u001b[39mplot(q_history\u001b[39m.\u001b[39mhistory[\u001b[39m\"\u001b[39m\u001b[39mmy_metric_fn\u001b[39m\u001b[39m\"\u001b[39m], \u001b[39m\"\u001b[39m\u001b[39m-g\u001b[39m\u001b[39m\"\u001b[39m, label\u001b[39m=\u001b[39m\u001b[39m\"\u001b[39m\u001b[39mHQCNN Fidelity\u001b[39m\u001b[39m\"\u001b[39m)\n",
      "\u001b[1;31mNameError\u001b[0m: name 'c_history' is not defined"
     ]
    },
    {
     "data": {
      "image/png": "[encoded data removed]",
      "text/plain": [
       "<Figure size 576x396 with 3 Axes>"
      ]
     },
     "metadata": {},
     "output_type": "display_data"
    }
   ],
   "source": [
    "plt.style.use(\"seaborn\")\n",
    "\n",
    "fig, ax1 = plt.subplots(sharex=True, sharey=True)\n",
    "ax2 = ax1.twinx()\n",
    "ax3 = ax1.twinx()\n",
    "ax1.grid(b=False)\n",
    "ax2.grid(b=False)\n",
    "ax3.grid(b=False)\n",
    "\n",
    "ax1.plot(q_history.history[\"accuracy\"], \"-b\", label=\"HQCNN-val acc\")\n",
    "ax2.plot(q_history.history[\"loss\"], \"-r\", label=\"HQCNN-val loss\")\n",
    "ax1.plot(c_history.history[\"accuracy\"], \"--b\", label=\"CNN-val acc\")\n",
    "ax2.plot(c_history.history[\"loss\"], \"--r\", label=\"CNN-val lass\")\n",
    "ax1.plot(q_history.history[\"my_metric_fn\"], \"-g\", label=\"HQCNN Fidelity\")\n",
    "#ax1.plot(c_history.history[\"val_accuracy\"], \"--g\", label=\"CNN Fidelity\")\n",
    "ax1.set_ylabel(\"Accuracy\", color='b')\n",
    "ax2.set_ylabel(\"Loss\", color='r')\n",
    "ax3.yaxis.set_label_coords(-0.1, 0.5)\n",
    "ax3.set_ylabel(\"Fidelity\", color='g')\n",
    "ax3.set_yticklabels([])\n",
    "ax1.set_ylim([0.3, 1])\n",
    "# ax2.set_ylim([0.1, 1])\n",
    "ax3.set_ylim([0.3, 1])\n",
    "ax1.set_xlabel(\"Epoch\")\n",
    "ax1.legend(bbox_to_anchor=(0.9, 0.7))\n",
    "ax2.legend(bbox_to_anchor=(0.905, 0.57))\n",
    "# ax1.plot(c_history.history[\"val_accuracy\"], \"--b\", label=\"Without quantum layer\")\n",
    "# ax1.plot(c_history.history[\"val_loss\"], \"--g\", label=\"Without quantum layer\")\n",
    "#ax2.set_ylim(top=2.5)\n",
    "#ax2.set_xlabel(\"Epoch\")\n",
    "#ax2.legend()\n",
    "plt.tight_layout()\n",
    "plt.show()"
   ]
  },
  {
   "cell_type": "code",
   "execution_count": null,
   "id": "5497f3f9",
   "metadata": {},
   "outputs": [],
   "source": []
  },
  {
   "cell_type": "code",
   "execution_count": 92,
   "id": "75d12e39",
   "metadata": {},
   "outputs": [
    {
     "ename": "NameError",
     "evalue": "name 'c_history' is not defined",
     "output_type": "error",
     "traceback": [
      "\u001b[1;31m---------------------------------------------------------------------------\u001b[0m",
      "\u001b[1;31mNameError\u001b[0m                                 Traceback (most recent call last)",
      "\u001b[1;32mc:\\Users\\fadhel97\\Dropbox\\Fadhel-Mustafa-Zeerak\\Code 3x3\\Hybrid QCNN multi class-Copy3.ipynb Cell 40\u001b[0m in \u001b[0;36m<cell line: 3>\u001b[1;34m()\u001b[0m\n\u001b[0;32m      <a href='vscode-notebook-cell:/c%3A/Users/fadhel97/Dropbox/Fadhel-Mustafa-Zeerak/Code%203x3/Hybrid%20QCNN%20multi%20class-Copy3.ipynb#X52sZmlsZQ%3D%3D?line=0'>1</a>\u001b[0m n \u001b[39m=\u001b[39m \u001b[39mlen\u001b[39m(q_history\u001b[39m.\u001b[39mhistory[\u001b[39m\"\u001b[39m\u001b[39maccuracy\u001b[39m\u001b[39m\"\u001b[39m]) \u001b[39m# number of rows in the data\u001b[39;00m\n\u001b[0;32m      <a href='vscode-notebook-cell:/c%3A/Users/fadhel97/Dropbox/Fadhel-Mustafa-Zeerak/Code%203x3/Hybrid%20QCNN%20multi%20class-Copy3.ipynb#X52sZmlsZQ%3D%3D?line=1'>2</a>\u001b[0m N \u001b[39m=\u001b[39m np\u001b[39m.\u001b[39marange(\u001b[39m1\u001b[39m, n\u001b[39m+\u001b[39m\u001b[39m1\u001b[39m) \u001b[39m# create a new column with values 1 to n\u001b[39;00m\n\u001b[1;32m----> <a href='vscode-notebook-cell:/c%3A/Users/fadhel97/Dropbox/Fadhel-Mustafa-Zeerak/Code%203x3/Hybrid%20QCNN%20multi%20class-Copy3.ipynb#X52sZmlsZQ%3D%3D?line=2'>3</a>\u001b[0m data_train \u001b[39m=\u001b[39m np\u001b[39m.\u001b[39marray([N, q_history\u001b[39m.\u001b[39mhistory[\u001b[39m\"\u001b[39m\u001b[39maccuracy\u001b[39m\u001b[39m\"\u001b[39m], q_history\u001b[39m.\u001b[39mhistory[\u001b[39m\"\u001b[39m\u001b[39mloss\u001b[39m\u001b[39m\"\u001b[39m], c_history\u001b[39m.\u001b[39mhistory[\u001b[39m\"\u001b[39m\u001b[39maccuracy\u001b[39m\u001b[39m\"\u001b[39m], c_history\u001b[39m.\u001b[39mhistory[\u001b[39m\"\u001b[39m\u001b[39mloss\u001b[39m\u001b[39m\"\u001b[39m], q_history\u001b[39m.\u001b[39mhistory[\u001b[39m\"\u001b[39m\u001b[39mmy_metric_fn\u001b[39m\u001b[39m\"\u001b[39m]])\u001b[39m.\u001b[39mT\n",
      "\u001b[1;31mNameError\u001b[0m: name 'c_history' is not defined"
     ]
    }
   ],
   "source": [
    "n = len(q_history.history[\"accuracy\"]) # number of rows in the data\n",
    "N = np.arange(1, n+1) # create a new column with values 1 to n\n",
    "data_train = np.array([N, q_history.history[\"accuracy\"], q_history.history[\"loss\"], c_history.history[\"accuracy\"], c_history.history[\"loss\"], q_history.history[\"my_metric_fn\"]]).T"
   ]
  },
  {
   "cell_type": "code",
   "execution_count": 93,
   "id": "07697733",
   "metadata": {},
   "outputs": [
    {
     "ename": "NameError",
     "evalue": "name 'c_history' is not defined",
     "output_type": "error",
     "traceback": [
      "\u001b[1;31m---------------------------------------------------------------------------\u001b[0m",
      "\u001b[1;31mNameError\u001b[0m                                 Traceback (most recent call last)",
      "\u001b[1;32mc:\\Users\\fadhel97\\Dropbox\\Fadhel-Mustafa-Zeerak\\Code 3x3\\Hybrid QCNN multi class-Copy3.ipynb Cell 41\u001b[0m in \u001b[0;36m<cell line: 1>\u001b[1;34m()\u001b[0m\n\u001b[1;32m----> <a href='vscode-notebook-cell:/c%3A/Users/fadhel97/Dropbox/Fadhel-Mustafa-Zeerak/Code%203x3/Hybrid%20QCNN%20multi%20class-Copy3.ipynb#X53sZmlsZQ%3D%3D?line=0'>1</a>\u001b[0m data_val \u001b[39m=\u001b[39m np\u001b[39m.\u001b[39marray([N, q_history\u001b[39m.\u001b[39mhistory[\u001b[39m\"\u001b[39m\u001b[39mval_accuracy\u001b[39m\u001b[39m\"\u001b[39m], q_history\u001b[39m.\u001b[39mhistory[\u001b[39m\"\u001b[39m\u001b[39mval_loss\u001b[39m\u001b[39m\"\u001b[39m], c_history\u001b[39m.\u001b[39mhistory[\u001b[39m\"\u001b[39m\u001b[39mval_accuracy\u001b[39m\u001b[39m\"\u001b[39m], c_history\u001b[39m.\u001b[39mhistory[\u001b[39m\"\u001b[39m\u001b[39mval_loss\u001b[39m\u001b[39m\"\u001b[39m], q_history\u001b[39m.\u001b[39mhistory[\u001b[39m\"\u001b[39m\u001b[39mmy_metric_fn\u001b[39m\u001b[39m\"\u001b[39m]])\u001b[39m.\u001b[39mT\n",
      "\u001b[1;31mNameError\u001b[0m: name 'c_history' is not defined"
     ]
    }
   ],
   "source": [
    "data_val = np.array([N, q_history.history[\"val_accuracy\"], q_history.history[\"val_loss\"], c_history.history[\"val_accuracy\"], c_history.history[\"val_loss\"], q_history.history[\"my_metric_fn\"]]).T"
   ]
  },
  {
   "cell_type": "code",
   "execution_count": 94,
   "id": "7a84662f",
   "metadata": {
    "scrolled": true
   },
   "outputs": [
    {
     "ename": "NameError",
     "evalue": "name 'data_train' is not defined",
     "output_type": "error",
     "traceback": [
      "\u001b[1;31m---------------------------------------------------------------------------\u001b[0m",
      "\u001b[1;31mNameError\u001b[0m                                 Traceback (most recent call last)",
      "\u001b[1;32mc:\\Users\\fadhel97\\Dropbox\\Fadhel-Mustafa-Zeerak\\Code 3x3\\Hybrid QCNN multi class-Copy3.ipynb Cell 42\u001b[0m in \u001b[0;36m<cell line: 1>\u001b[1;34m()\u001b[0m\n\u001b[1;32m----> <a href='vscode-notebook-cell:/c%3A/Users/fadhel97/Dropbox/Fadhel-Mustafa-Zeerak/Code%203x3/Hybrid%20QCNN%20multi%20class-Copy3.ipynb#X54sZmlsZQ%3D%3D?line=0'>1</a>\u001b[0m data_train\n",
      "\u001b[1;31mNameError\u001b[0m: name 'data_train' is not defined"
     ]
    }
   ],
   "source": [
    "data_train"
   ]
  },
  {
   "cell_type": "code",
   "execution_count": 95,
   "id": "7639526a",
   "metadata": {},
   "outputs": [
    {
     "ename": "NameError",
     "evalue": "name 'data_train' is not defined",
     "output_type": "error",
     "traceback": [
      "\u001b[1;31m---------------------------------------------------------------------------\u001b[0m",
      "\u001b[1;31mNameError\u001b[0m                                 Traceback (most recent call last)",
      "\u001b[1;32mc:\\Users\\fadhel97\\Dropbox\\Fadhel-Mustafa-Zeerak\\Code 3x3\\Hybrid QCNN multi class-Copy3.ipynb Cell 43\u001b[0m in \u001b[0;36m<cell line: 2>\u001b[1;34m()\u001b[0m\n\u001b[0;32m      <a href='vscode-notebook-cell:/c%3A/Users/fadhel97/Dropbox/Fadhel-Mustafa-Zeerak/Code%203x3/Hybrid%20QCNN%20multi%20class-Copy3.ipynb#X55sZmlsZQ%3D%3D?line=0'>1</a>\u001b[0m header \u001b[39m=\u001b[39m \u001b[39m\"\u001b[39m\u001b[39mN\u001b[39m\u001b[39m\\t\u001b[39;00m\u001b[39mQAccuracy\u001b[39m\u001b[39m\\t\u001b[39;00m\u001b[39mQLoss\u001b[39m\u001b[39m\\t\u001b[39;00m\u001b[39mCAccuracy\u001b[39m\u001b[39m\\t\u001b[39;00m\u001b[39mCLoss\u001b[39m\u001b[39m\\t\u001b[39;00m\u001b[39mFidelity\u001b[39m\u001b[39m\"\u001b[39m\n\u001b[1;32m----> <a href='vscode-notebook-cell:/c%3A/Users/fadhel97/Dropbox/Fadhel-Mustafa-Zeerak/Code%203x3/Hybrid%20QCNN%20multi%20class-Copy3.ipynb#X55sZmlsZQ%3D%3D?line=1'>2</a>\u001b[0m np\u001b[39m.\u001b[39msavetxt(\u001b[39m'\u001b[39m\u001b[39mTrain_data_3x3.dat\u001b[39m\u001b[39m'\u001b[39m, data_train, delimiter\u001b[39m=\u001b[39m\u001b[39m'\u001b[39m\u001b[39m\\t\u001b[39;00m\u001b[39m'\u001b[39m, header\u001b[39m=\u001b[39mheader, comments\u001b[39m=\u001b[39m\u001b[39m'\u001b[39m\u001b[39m'\u001b[39m)\n",
      "\u001b[1;31mNameError\u001b[0m: name 'data_train' is not defined"
     ]
    }
   ],
   "source": [
    "header = \"N\\tQAccuracy\\tQLoss\\tCAccuracy\\tCLoss\\tFidelity\"\n",
    "np.savetxt('Train_data_3x3.dat', data_train, delimiter='\\t', header=header, comments='')"
   ]
  },
  {
   "cell_type": "code",
   "execution_count": 96,
   "id": "e81fa458",
   "metadata": {},
   "outputs": [
    {
     "ename": "NameError",
     "evalue": "name 'data_val' is not defined",
     "output_type": "error",
     "traceback": [
      "\u001b[1;31m---------------------------------------------------------------------------\u001b[0m",
      "\u001b[1;31mNameError\u001b[0m                                 Traceback (most recent call last)",
      "\u001b[1;32mc:\\Users\\fadhel97\\Dropbox\\Fadhel-Mustafa-Zeerak\\Code 3x3\\Hybrid QCNN multi class-Copy3.ipynb Cell 44\u001b[0m in \u001b[0;36m<cell line: 2>\u001b[1;34m()\u001b[0m\n\u001b[0;32m      <a href='vscode-notebook-cell:/c%3A/Users/fadhel97/Dropbox/Fadhel-Mustafa-Zeerak/Code%203x3/Hybrid%20QCNN%20multi%20class-Copy3.ipynb#X56sZmlsZQ%3D%3D?line=0'>1</a>\u001b[0m header \u001b[39m=\u001b[39m \u001b[39m\"\u001b[39m\u001b[39mN\u001b[39m\u001b[39m\\t\u001b[39;00m\u001b[39mQAccuracy\u001b[39m\u001b[39m\\t\u001b[39;00m\u001b[39mQLoss\u001b[39m\u001b[39m\\t\u001b[39;00m\u001b[39mCAccuracy\u001b[39m\u001b[39m\\t\u001b[39;00m\u001b[39mCLoss\u001b[39m\u001b[39m\\t\u001b[39;00m\u001b[39mFidelity\u001b[39m\u001b[39m\"\u001b[39m\n\u001b[1;32m----> <a href='vscode-notebook-cell:/c%3A/Users/fadhel97/Dropbox/Fadhel-Mustafa-Zeerak/Code%203x3/Hybrid%20QCNN%20multi%20class-Copy3.ipynb#X56sZmlsZQ%3D%3D?line=1'>2</a>\u001b[0m np\u001b[39m.\u001b[39msavetxt(\u001b[39m'\u001b[39m\u001b[39mVal_data_3x3.dat\u001b[39m\u001b[39m'\u001b[39m, data_val, delimiter\u001b[39m=\u001b[39m\u001b[39m'\u001b[39m\u001b[39m\\t\u001b[39;00m\u001b[39m'\u001b[39m, header\u001b[39m=\u001b[39mheader, comments\u001b[39m=\u001b[39m\u001b[39m'\u001b[39m\u001b[39m'\u001b[39m)\n",
      "\u001b[1;31mNameError\u001b[0m: name 'data_val' is not defined"
     ]
    }
   ],
   "source": [
    "header = \"N\\tQAccuracy\\tQLoss\\tCAccuracy\\tCLoss\\tFidelity\"\n",
    "np.savetxt('Val_data_3x3.dat', data_val, delimiter='\\t', header=header, comments='')"
   ]
  },
  {
   "cell_type": "code",
   "execution_count": 97,
   "id": "87727c51",
   "metadata": {},
   "outputs": [
    {
     "name": "stdout",
     "output_type": "stream",
     "text": [
      "76/76 [==============================] - 0s 2ms/step\n"
     ]
    }
   ],
   "source": [
    "predictions = q_model.predict(q_test_images)"
   ]
  },
  {
   "cell_type": "code",
   "execution_count": 98,
   "id": "2ffe100b",
   "metadata": {},
   "outputs": [
    {
     "data": {
      "text/plain": [
       "array([[9.52799082e-01, 1.08997097e-04, 1.08998108e-12, ...,\n",
       "        6.35364605e-09, 2.08968704e-05, 5.54033022e-06],\n",
       "       [9.63834584e-01, 3.23101121e-04, 9.46205336e-10, ...,\n",
       "        4.60662131e-09, 8.77327636e-07, 6.84675342e-06],\n",
       "       [9.97623861e-01, 1.29100087e-03, 1.86641049e-08, ...,\n",
       "        6.73264333e-09, 2.50643790e-08, 1.50545340e-04],\n",
       "       ...,\n",
       "       [1.05077590e-04, 1.04579656e-09, 1.98653338e-18, ...,\n",
       "        1.86388584e-24, 1.02084411e-13, 9.98409450e-01],\n",
       "       [6.74960365e-11, 1.45938678e-11, 4.48623379e-26, ...,\n",
       "        5.22388456e-29, 4.99972920e-14, 9.99855638e-01],\n",
       "       [3.49771392e-11, 1.40251769e-10, 2.70499511e-26, ...,\n",
       "        4.86487996e-24, 1.07707385e-10, 1.00000000e+00]], dtype=float32)"
      ]
     },
     "execution_count": 98,
     "metadata": {},
     "output_type": "execute_result"
    }
   ],
   "source": [
    "predictions"
   ]
  },
  {
   "cell_type": "code",
   "execution_count": 99,
   "id": "e12efd13",
   "metadata": {},
   "outputs": [
    {
     "data": {
      "text/plain": [
       "(2424, 24)"
      ]
     },
     "execution_count": 99,
     "metadata": {},
     "output_type": "execute_result"
    }
   ],
   "source": [
    "predictions.shape"
   ]
  },
  {
   "cell_type": "code",
   "execution_count": 100,
   "id": "6087f2a6",
   "metadata": {},
   "outputs": [],
   "source": [
    "n = 2424  # Number of elements\n",
    "pred = [None for _ in range(n)]"
   ]
  },
  {
   "cell_type": "code",
   "execution_count": 101,
   "id": "0578e591",
   "metadata": {},
   "outputs": [],
   "source": [
    "for i in range(n):\n",
    "    pred[i]=np.argmax(predictions[i])"
   ]
  },
  {
   "cell_type": "code",
   "execution_count": 102,
   "id": "fa66feb1",
   "metadata": {},
   "outputs": [
    {
     "data": {
      "text/plain": [
       "<tf.Tensor: shape=(24, 24), dtype=int32, numpy=\n",
       "array([[ 96,   1,   0,   0,   1,   0,   0,   0,   0,   0,   0,   0,   0,\n",
       "          0,   0,   0,   2,   1,   0,   0,   0,   0,   0,   0],\n",
       "       [  1,  95,   0,   1,   2,   0,   0,   0,   0,   0,   0,   0,   0,\n",
       "          0,   0,   0,   0,   1,   0,   0,   0,   0,   0,   1],\n",
       "       [  0,   2,  89,   1,   8,   0,   0,   0,   0,   0,   1,   0,   0,\n",
       "          0,   0,   0,   0,   0,   0,   0,   0,   0,   0,   0],\n",
       "       [  0,   0,   0,  99,   0,   0,   0,   0,   0,   0,   0,   2,   0,\n",
       "          0,   0,   0,   0,   0,   0,   0,   0,   0,   0,   0],\n",
       "       [  0,   0,   0,   0, 101,   0,   0,   0,   0,   0,   0,   0,   0,\n",
       "          0,   0,   0,   0,   0,   0,   0,   0,   0,   0,   0],\n",
       "       [  0,   0,   0,   0,   1,  98,   2,   0,   0,   0,   0,   0,   0,\n",
       "          0,   0,   0,   0,   0,   0,   0,   0,   0,   0,   0],\n",
       "       [  1,   1,   0,   0,   3,   1,  94,   0,   0,   0,   0,   0,   0,\n",
       "          0,   0,   0,   0,   0,   0,   0,   1,   0,   0,   0],\n",
       "       [  1,   1,   1,   0,   0,   0,   1,  96,   0,   0,   0,   0,   0,\n",
       "          0,   0,   0,   0,   0,   0,   0,   1,   0,   0,   0],\n",
       "       [  0,   0,   0,   0,   0,   0,   0,   0, 100,   0,   0,   0,   0,\n",
       "          0,   0,   0,   0,   1,   0,   0,   0,   0,   0,   0],\n",
       "       [  0,   0,   0,   0,   0,   0,   0,   0,   0,  98,   0,   0,   0,\n",
       "          0,   0,   0,   0,   1,   0,   1,   1,   0,   0,   0],\n",
       "       [  0,   0,   0,   0,   0,   0,   0,   1,   0,   0,  99,   0,   0,\n",
       "          0,   0,   0,   0,   1,   0,   0,   0,   0,   0,   0],\n",
       "       [  0,   1,   0,   0,   0,   1,   0,   0,   2,   0,   0,  97,   0,\n",
       "          0,   0,   0,   0,   0,   0,   0,   0,   0,   0,   0],\n",
       "       [  0,   0,   0,   0,   0,   0,   0,   0,   0,   0,   0,   0, 100,\n",
       "          0,   0,   1,   0,   0,   0,   0,   0,   0,   0,   0],\n",
       "       [  0,   0,   0,   0,   0,   0,   0,   0,   0,   0,   0,   0,   0,\n",
       "         98,   1,   0,   1,   0,   0,   0,   0,   0,   1,   0],\n",
       "       [  0,   1,   1,   0,   0,   0,   0,   0,   0,   0,   0,   0,   0,\n",
       "          0,  99,   0,   0,   0,   0,   0,   0,   0,   0,   0],\n",
       "       [  0,   0,   0,   0,   1,   0,   0,   0,   0,   0,   1,   0,   0,\n",
       "          0,   0,  95,   1,   1,   2,   0,   0,   0,   0,   0],\n",
       "       [  0,   0,   0,   0,   0,   0,   0,   0,   0,   1,   0,   0,   0,\n",
       "          0,   0,   0, 100,   0,   0,   0,   0,   0,   0,   0],\n",
       "       [  0,   0,   0,   0,   0,   0,   0,   0,   0,   0,   0,   0,   0,\n",
       "          0,   1,   1,   0,  98,   0,   0,   1,   0,   0,   0],\n",
       "       [  0,   1,   0,   0,   0,   0,   0,   0,   0,   0,   0,   0,   0,\n",
       "          0,   0,   2,   0,   0,  97,   1,   0,   0,   0,   0],\n",
       "       [  0,   1,   0,   0,   0,   0,   0,   0,   0,   1,   0,   0,   0,\n",
       "          0,   0,   0,   0,   1,   1,  97,   0,   0,   0,   0],\n",
       "       [  0,   0,   0,   0,   0,   0,   0,   0,   0,   0,   0,   0,   0,\n",
       "          0,   0,   0,   0,   0,   0,   0, 101,   0,   0,   0],\n",
       "       [  0,   0,   0,   0,   0,   0,   0,   0,   0,   0,   1,   0,   0,\n",
       "          0,   0,   0,   0,   0,   0,   0,   0, 100,   0,   0],\n",
       "       [  0,   0,   1,   0,   0,   0,   0,   0,   1,   0,   0,   0,   0,\n",
       "          0,   0,   0,   0,   0,   0,   0,   0,   0,  99,   0],\n",
       "       [  0,   1,   0,   0,   0,   0,   0,   0,   0,   0,   0,   0,   0,\n",
       "          0,   0,   0,   1,   0,   0,   0,   0,   0,   0,  99]])>"
      ]
     },
     "execution_count": 102,
     "metadata": {},
     "output_type": "execute_result"
    }
   ],
   "source": [
    "tf.math.confusion_matrix(test_labels, pred)"
   ]
  },
  {
   "cell_type": "code",
   "execution_count": 103,
   "id": "ece75e3f",
   "metadata": {},
   "outputs": [],
   "source": [
    "from sklearn.metrics import confusion_matrix, classification_report\n",
    "import seaborn as sns\n",
    "import matplotlib.pyplot as plt\n",
    "cm = confusion_matrix(test_labels, pred)"
   ]
  },
  {
   "cell_type": "code",
   "execution_count": 106,
   "id": "08e46ea9",
   "metadata": {},
   "outputs": [
    {
     "data": {
      "image/png": "[encoded data removed]",
      "text/plain": [
       "<Figure size 1296x1152 with 2 Axes>"
      ]
     },
     "metadata": {},
     "output_type": "display_data"
    }
   ],
   "source": [
    "fig, ax = plt.subplots(figsize=(18,16))\n",
    "sns.heatmap(cm,\n",
    "            annot=True,\n",
    "            fmt='g',\n",
    "            xticklabels=class_names,\n",
    "            yticklabels=class_names)\n",
    "# plt.figure(figsize=(10,6))\n",
    "plt.ylabel('Predicted Label',fontsize=13)\n",
    "plt.xlabel('True Label',fontsize=13)\n",
    "plt.title('Confusion Matrix',fontsize=17)\n",
    "plt.savefig(\"myImagePDF.pdf\", format=\"pdf\", bbox_inches=\"tight\")\n",
    "plt.show()"
   ]
  },
  {
   "cell_type": "code",
   "execution_count": 107,
   "id": "abe5a712",
   "metadata": {},
   "outputs": [
    {
     "data": {
      "text/plain": [
       "array([ 0,  0,  0, ..., 23, 23, 23], dtype=int64)"
      ]
     },
     "execution_count": 107,
     "metadata": {},
     "output_type": "execute_result"
    }
   ],
   "source": [
    "train_labels"
   ]
  },
  {
   "cell_type": "code",
   "execution_count": 108,
   "id": "ed6afaed",
   "metadata": {},
   "outputs": [
    {
     "ename": "IndexError",
     "evalue": "list index out of range",
     "output_type": "error",
     "traceback": [
      "\u001b[1;31m---------------------------------------------------------------------------\u001b[0m",
      "\u001b[1;31mIndexError\u001b[0m                                Traceback (most recent call last)",
      "\u001b[1;32mc:\\Users\\fadhel97\\Dropbox\\Fadhel-Mustafa-Zeerak\\Code 3x3\\Hybrid QCNN multi class-Copy3.ipynb Cell 54\u001b[0m in \u001b[0;36m<cell line: 1>\u001b[1;34m()\u001b[0m\n\u001b[1;32m----> <a href='vscode-notebook-cell:/c%3A/Users/fadhel97/Dropbox/Fadhel-Mustafa-Zeerak/Code%203x3/Hybrid%20QCNN%20multi%20class-Copy3.ipynb#Y102sZmlsZQ%3D%3D?line=0'>1</a>\u001b[0m pred[\u001b[39m9599\u001b[39;49m]\n",
      "\u001b[1;31mIndexError\u001b[0m: list index out of range"
     ]
    }
   ],
   "source": [
    "pred[9599]"
   ]
  },
  {
   "cell_type": "code",
   "execution_count": 109,
   "id": "7e800a24",
   "metadata": {},
   "outputs": [
    {
     "name": "stdout",
     "output_type": "stream",
     "text": [
      "              precision    recall  f1-score   support\n",
      "\n",
      "           0       0.97      0.95      0.96       101\n",
      "           1       0.90      0.94      0.92       101\n",
      "           2       0.97      0.88      0.92       101\n",
      "           3       0.98      0.98      0.98       101\n",
      "           4       0.86      1.00      0.93       101\n",
      "           5       0.98      0.97      0.98       101\n",
      "           6       0.97      0.93      0.95       101\n",
      "           7       0.99      0.95      0.97       101\n",
      "           8       0.97      0.99      0.98       101\n",
      "           9       0.98      0.97      0.98       101\n",
      "          10       0.97      0.98      0.98       101\n",
      "          11       0.98      0.96      0.97       101\n",
      "          12       1.00      0.99      1.00       101\n",
      "          13       1.00      0.97      0.98       101\n",
      "          14       0.98      0.98      0.98       101\n",
      "          15       0.96      0.94      0.95       101\n",
      "          16       0.95      0.99      0.97       101\n",
      "          17       0.93      0.97      0.95       101\n",
      "          18       0.97      0.96      0.97       101\n",
      "          19       0.98      0.96      0.97       101\n",
      "          20       0.96      1.00      0.98       101\n",
      "          21       1.00      0.99      1.00       101\n",
      "          22       0.99      0.98      0.99       101\n",
      "          23       0.99      0.98      0.99       101\n",
      "\n",
      "    accuracy                           0.97      2424\n",
      "   macro avg       0.97      0.97      0.97      2424\n",
      "weighted avg       0.97      0.97      0.97      2424\n",
      "\n"
     ]
    }
   ],
   "source": [
    "print(classification_report(test_labels, pred))"
   ]
  },
  {
   "cell_type": "code",
   "execution_count": null,
   "id": "de2c3958",
   "metadata": {},
   "outputs": [],
   "source": [
    "from sklearn.metrics import plot_confusion_matrix"
   ]
  },
  {
   "cell_type": "code",
   "execution_count": 105,
   "id": "d21e615e",
   "metadata": {},
   "outputs": [],
   "source": [
    "class_names = [str(i) for i in range(24)]"
   ]
  },
  {
   "cell_type": "code",
   "execution_count": null,
   "id": "2f037875",
   "metadata": {},
   "outputs": [],
   "source": [
    "class estimator:\n",
    "  _estimator_type = ''\n",
    "  classes_=[]\n",
    "  def __init__(self, model, classes):\n",
    "    self.model = model\n",
    "    self._estimator_type = 'classifier'\n",
    "    self.classes_ = classes\n",
    "  def predict(self, X):\n",
    "    y_prob= self.model.predict(X)\n",
    "    y_pred = y_prob.argmax(axis=1)\n",
    "    return y_pred\n",
    "\n",
    "classifier = estimator(q_model, class_names)"
   ]
  },
  {
   "cell_type": "code",
   "execution_count": null,
   "id": "5c1e5b64",
   "metadata": {},
   "outputs": [],
   "source": [
    "figsize = (16,16)\n",
    "plt.grid(False)\n",
    "plot_confusion_matrix(estimator=classifier, X=q_test_images, y_true=test_labels, ax=plt.subplots(figsize=figsize)[1])"
   ]
  },
  {
   "cell_type": "code",
   "execution_count": null,
   "id": "2ef87145",
   "metadata": {},
   "outputs": [],
   "source": [
    "f=plot_confusion_matrix(estimator=classifier, X=test_images, y_true=test_labels, cmap='Blues', ax=plt.subplots(figsize=figsize)[1])\n",
    "plt.savefig(\"foo.pdf\", bbox_inches='tight')"
   ]
  },
  {
   "cell_type": "code",
   "execution_count": null,
   "id": "2101eff3",
   "metadata": {},
   "outputs": [],
   "source": []
  }
 ],
 "metadata": {
  "kernelspec": {
   "display_name": "Python 3 (ipykernel)",
   "language": "python",
   "name": "python3"
  },
  "language_info": {
   "codemirror_mode": {
    "name": "ipython",
    "version": 3
   },
   "file_extension": ".py",
   "mimetype": "text/x-python",
   "name": "python",
   "nbconvert_exporter": "python",
   "pygments_lexer": "ipython3",
   "version": "3.10.4"
  }
 },
 "nbformat": 4,
 "nbformat_minor": 5
}
